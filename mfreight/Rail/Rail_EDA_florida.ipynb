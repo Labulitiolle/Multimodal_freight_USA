{
 "cells": [
  {
   "cell_type": "markdown",
   "metadata": {},
   "source": [
    "# Rail network exploration\n",
    "\n"
   ]
  },
  {
   "cell_type": "markdown",
   "metadata": {},
   "source": [
    "## Goal\n",
    "* Understand the BOF rail netwrok dataset. \n",
    "* Merge it with the intermodal data set.\n",
    "* Simplify this merged dataset (remove unnecesary nodes)."
   ]
  },
  {
   "cell_type": "code",
   "execution_count": 1,
   "metadata": {},
   "outputs": [],
   "source": [
    "import geopandas as gpd\n",
    "import networkx as nx\n",
    "import matplotlib.pyplot as plt\n",
    "import pandas as pd\n",
    "import collections\n",
    "import osmnx as ox\n",
    "from shapely.geometry import Polygon, LineString\n",
    "import time\n",
    "import re\n",
    "\n",
    "import sys\n",
    "sys.path.append('../utils/')\n",
    "\n",
    "import simplify\n",
    "\n",
    "pd.set_option('display.max_columns', None)"
   ]
  },
  {
   "cell_type": "markdown",
   "metadata": {},
   "source": [
    "## Import BOF data sets"
   ]
  },
  {
   "cell_type": "code",
   "execution_count": 2,
   "metadata": {},
   "outputs": [
    {
     "name": "stdout",
     "output_type": "stream",
     "text": [
      "time elapsed: 24.095784902572632\n",
      "time elapsed: 10.172541856765747\n"
     ]
    }
   ],
   "source": [
    "start = time.time()\n",
    "\n",
    "edges = gpd.read_file('rail_data/North_American_Rail_Lines-shp/North_American_Rail_Lines.shp')\n",
    "print(f'time elapsed: {time.time()-start}')\n",
    "\n",
    "start = time.time()\n",
    "\n",
    "nodes = gpd.read_file('rail_data/North_American_Rail_Nodes-shp/North_American_Rail_Nodes.shp')\n",
    "print(f'time elapsed: {time.time()-start}')"
   ]
  },
  {
   "cell_type": "code",
   "execution_count": 3,
   "metadata": {},
   "outputs": [
    {
     "data": {
      "text/html": [
       "<div>\n",
       "<style scoped>\n",
       "    .dataframe tbody tr th:only-of-type {\n",
       "        vertical-align: middle;\n",
       "    }\n",
       "\n",
       "    .dataframe tbody tr th {\n",
       "        vertical-align: top;\n",
       "    }\n",
       "\n",
       "    .dataframe thead th {\n",
       "        text-align: right;\n",
       "    }\n",
       "</style>\n",
       "<table border=\"1\" class=\"dataframe\">\n",
       "  <thead>\n",
       "    <tr style=\"text-align: right;\">\n",
       "      <th></th>\n",
       "      <th>OBJECTID</th>\n",
       "      <th>FRAARCID</th>\n",
       "      <th>FRFRANODE</th>\n",
       "      <th>TOFRANODE</th>\n",
       "      <th>STFIPS</th>\n",
       "      <th>CNTYFIPS</th>\n",
       "      <th>STCNTYFIPS</th>\n",
       "      <th>STATEAB</th>\n",
       "      <th>COUNTRY</th>\n",
       "      <th>FRAREGION</th>\n",
       "      <th>RROWNER1</th>\n",
       "      <th>RROWNER2</th>\n",
       "      <th>RROWNER3</th>\n",
       "      <th>TRKRGHTS1</th>\n",
       "      <th>TRKRGHTS2</th>\n",
       "      <th>TRKRGHTS3</th>\n",
       "      <th>TRKRGHTS4</th>\n",
       "      <th>TRKRGHTS5</th>\n",
       "      <th>TRKRGHTS6</th>\n",
       "      <th>TRKRGHTS7</th>\n",
       "      <th>TRKRGHTS8</th>\n",
       "      <th>TRKRGHTS9</th>\n",
       "      <th>SUBDIV</th>\n",
       "      <th>YARDNAME</th>\n",
       "      <th>PASSNGR</th>\n",
       "      <th>STRACNET</th>\n",
       "      <th>TRACKS</th>\n",
       "      <th>DIRECTION</th>\n",
       "      <th>CARDDIRECT</th>\n",
       "      <th>NET</th>\n",
       "      <th>MILES</th>\n",
       "      <th>KM</th>\n",
       "      <th>TIMEZONE</th>\n",
       "      <th>IM_RT_TYPE</th>\n",
       "      <th>DS</th>\n",
       "      <th>ShapeSTLen</th>\n",
       "      <th>geometry</th>\n",
       "    </tr>\n",
       "  </thead>\n",
       "  <tbody>\n",
       "    <tr>\n",
       "      <th>0</th>\n",
       "      <td>1</td>\n",
       "      <td>300000</td>\n",
       "      <td>348741</td>\n",
       "      <td>348746</td>\n",
       "      <td>38</td>\n",
       "      <td>015</td>\n",
       "      <td>38015</td>\n",
       "      <td>ND</td>\n",
       "      <td>US</td>\n",
       "      <td>8</td>\n",
       "      <td>DMVW</td>\n",
       "      <td>None</td>\n",
       "      <td>None</td>\n",
       "      <td>None</td>\n",
       "      <td>None</td>\n",
       "      <td>None</td>\n",
       "      <td>None</td>\n",
       "      <td>None</td>\n",
       "      <td>None</td>\n",
       "      <td>None</td>\n",
       "      <td>None</td>\n",
       "      <td>None</td>\n",
       "      <td>None</td>\n",
       "      <td>None</td>\n",
       "      <td>None</td>\n",
       "      <td>None</td>\n",
       "      <td>1.0</td>\n",
       "      <td>2.0</td>\n",
       "      <td>None</td>\n",
       "      <td>M</td>\n",
       "      <td>0.178100</td>\n",
       "      <td>0.286624</td>\n",
       "      <td>C</td>\n",
       "      <td>None</td>\n",
       "      <td>None</td>\n",
       "      <td>418.656726</td>\n",
       "      <td>LINESTRING (-100.74520 46.80284, -100.74508 46...</td>\n",
       "    </tr>\n",
       "    <tr>\n",
       "      <th>1</th>\n",
       "      <td>2</td>\n",
       "      <td>300001</td>\n",
       "      <td>338567</td>\n",
       "      <td>338686</td>\n",
       "      <td>30</td>\n",
       "      <td>087</td>\n",
       "      <td>30087</td>\n",
       "      <td>MT</td>\n",
       "      <td>US</td>\n",
       "      <td>8</td>\n",
       "      <td>BNSF</td>\n",
       "      <td>None</td>\n",
       "      <td>None</td>\n",
       "      <td>None</td>\n",
       "      <td>None</td>\n",
       "      <td>None</td>\n",
       "      <td>None</td>\n",
       "      <td>None</td>\n",
       "      <td>None</td>\n",
       "      <td>None</td>\n",
       "      <td>None</td>\n",
       "      <td>None</td>\n",
       "      <td>None</td>\n",
       "      <td>None</td>\n",
       "      <td>None</td>\n",
       "      <td>None</td>\n",
       "      <td>0.0</td>\n",
       "      <td>NaN</td>\n",
       "      <td>None</td>\n",
       "      <td>O</td>\n",
       "      <td>0.887103</td>\n",
       "      <td>1.427657</td>\n",
       "      <td>M</td>\n",
       "      <td>None</td>\n",
       "      <td>None</td>\n",
       "      <td>2047.011640</td>\n",
       "      <td>LINESTRING (-106.65758 45.86404, -106.65768 45...</td>\n",
       "    </tr>\n",
       "  </tbody>\n",
       "</table>\n",
       "</div>"
      ],
      "text/plain": [
       "   OBJECTID  FRAARCID  FRFRANODE  TOFRANODE STFIPS CNTYFIPS STCNTYFIPS  \\\n",
       "0         1    300000     348741     348746     38      015      38015   \n",
       "1         2    300001     338567     338686     30      087      30087   \n",
       "\n",
       "  STATEAB COUNTRY  FRAREGION RROWNER1 RROWNER2 RROWNER3 TRKRGHTS1 TRKRGHTS2  \\\n",
       "0      ND      US          8     DMVW     None     None      None      None   \n",
       "1      MT      US          8     BNSF     None     None      None      None   \n",
       "\n",
       "  TRKRGHTS3 TRKRGHTS4 TRKRGHTS5 TRKRGHTS6 TRKRGHTS7 TRKRGHTS8 TRKRGHTS9  \\\n",
       "0      None      None      None      None      None      None      None   \n",
       "1      None      None      None      None      None      None      None   \n",
       "\n",
       "  SUBDIV YARDNAME PASSNGR STRACNET  TRACKS  DIRECTION CARDDIRECT NET  \\\n",
       "0   None     None    None     None     1.0        2.0       None   M   \n",
       "1   None     None    None     None     0.0        NaN       None   O   \n",
       "\n",
       "      MILES        KM TIMEZONE IM_RT_TYPE    DS   ShapeSTLen  \\\n",
       "0  0.178100  0.286624        C       None  None   418.656726   \n",
       "1  0.887103  1.427657        M       None  None  2047.011640   \n",
       "\n",
       "                                            geometry  \n",
       "0  LINESTRING (-100.74520 46.80284, -100.74508 46...  \n",
       "1  LINESTRING (-106.65758 45.86404, -106.65768 45...  "
      ]
     },
     "execution_count": 3,
     "metadata": {},
     "output_type": "execute_result"
    }
   ],
   "source": [
    "edges.head(2)"
   ]
  },
  {
   "cell_type": "markdown",
   "metadata": {},
   "source": [
    "Source: https://data-usdot.opendata.arcgis.com/datasets/north-american-rail-lines-1"
   ]
  },
  {
   "cell_type": "markdown",
   "metadata": {},
   "source": [
    "# Filter the data to keep only florida"
   ]
  },
  {
   "cell_type": "code",
   "execution_count": 4,
   "metadata": {},
   "outputs": [
    {
     "ename": "AttributeError",
     "evalue": "'GeoDataFrame' object has no attribute 'u'",
     "output_type": "error",
     "traceback": [
      "\u001b[0;31m---------------------------------------------------------------------------\u001b[0m",
      "\u001b[0;31mAttributeError\u001b[0m                            Traceback (most recent call last)",
      "\u001b[0;32m<ipython-input-4-4dadc9d11091>\u001b[0m in \u001b[0;36m<module>\u001b[0;34m\u001b[0m\n\u001b[1;32m     12\u001b[0m \u001b[0medges\u001b[0m\u001b[0;34m.\u001b[0m\u001b[0mplot\u001b[0m\u001b[0;34m(\u001b[0m\u001b[0max\u001b[0m\u001b[0;34m=\u001b[0m\u001b[0max\u001b[0m\u001b[0;34m,\u001b[0m \u001b[0mcolor\u001b[0m\u001b[0;34m=\u001b[0m\u001b[0;34m\"red\"\u001b[0m\u001b[0;34m)\u001b[0m\u001b[0;34m\u001b[0m\u001b[0;34m\u001b[0m\u001b[0m\n\u001b[1;32m     13\u001b[0m \u001b[0;34m\u001b[0m\u001b[0m\n\u001b[0;32m---> 14\u001b[0;31m \u001b[0mnodes\u001b[0m \u001b[0;34m=\u001b[0m \u001b[0mnodes\u001b[0m\u001b[0;34m[\u001b[0m\u001b[0mnodes\u001b[0m\u001b[0;34m.\u001b[0m\u001b[0mFRANODEID\u001b[0m\u001b[0;34m.\u001b[0m\u001b[0misin\u001b[0m\u001b[0;34m(\u001b[0m\u001b[0mlist\u001b[0m\u001b[0;34m(\u001b[0m\u001b[0medges\u001b[0m\u001b[0;34m.\u001b[0m\u001b[0mu\u001b[0m\u001b[0;34m.\u001b[0m\u001b[0mvalues\u001b[0m\u001b[0;34m)\u001b[0m \u001b[0;34m+\u001b[0m \u001b[0mlist\u001b[0m\u001b[0;34m(\u001b[0m\u001b[0medges\u001b[0m\u001b[0;34m.\u001b[0m\u001b[0mv\u001b[0m\u001b[0;34m.\u001b[0m\u001b[0mvalues\u001b[0m\u001b[0;34m)\u001b[0m\u001b[0;34m)\u001b[0m\u001b[0;34m]\u001b[0m\u001b[0;34m\u001b[0m\u001b[0;34m\u001b[0m\u001b[0m\n\u001b[0m",
      "\u001b[0;32m/anaconda3/lib/python3.7/site-packages/pandas/core/generic.py\u001b[0m in \u001b[0;36m__getattr__\u001b[0;34m(self, name)\u001b[0m\n\u001b[1;32m   5134\u001b[0m             \u001b[0;32mif\u001b[0m \u001b[0mself\u001b[0m\u001b[0;34m.\u001b[0m\u001b[0m_info_axis\u001b[0m\u001b[0;34m.\u001b[0m\u001b[0m_can_hold_identifiers_and_holds_name\u001b[0m\u001b[0;34m(\u001b[0m\u001b[0mname\u001b[0m\u001b[0;34m)\u001b[0m\u001b[0;34m:\u001b[0m\u001b[0;34m\u001b[0m\u001b[0;34m\u001b[0m\u001b[0m\n\u001b[1;32m   5135\u001b[0m                 \u001b[0;32mreturn\u001b[0m \u001b[0mself\u001b[0m\u001b[0;34m[\u001b[0m\u001b[0mname\u001b[0m\u001b[0;34m]\u001b[0m\u001b[0;34m\u001b[0m\u001b[0;34m\u001b[0m\u001b[0m\n\u001b[0;32m-> 5136\u001b[0;31m             \u001b[0;32mreturn\u001b[0m \u001b[0mobject\u001b[0m\u001b[0;34m.\u001b[0m\u001b[0m__getattribute__\u001b[0m\u001b[0;34m(\u001b[0m\u001b[0mself\u001b[0m\u001b[0;34m,\u001b[0m \u001b[0mname\u001b[0m\u001b[0;34m)\u001b[0m\u001b[0;34m\u001b[0m\u001b[0;34m\u001b[0m\u001b[0m\n\u001b[0m\u001b[1;32m   5137\u001b[0m \u001b[0;34m\u001b[0m\u001b[0m\n\u001b[1;32m   5138\u001b[0m     \u001b[0;32mdef\u001b[0m \u001b[0m__setattr__\u001b[0m\u001b[0;34m(\u001b[0m\u001b[0mself\u001b[0m\u001b[0;34m,\u001b[0m \u001b[0mname\u001b[0m\u001b[0;34m:\u001b[0m \u001b[0mstr\u001b[0m\u001b[0;34m,\u001b[0m \u001b[0mvalue\u001b[0m\u001b[0;34m)\u001b[0m \u001b[0;34m->\u001b[0m \u001b[0;32mNone\u001b[0m\u001b[0;34m:\u001b[0m\u001b[0;34m\u001b[0m\u001b[0;34m\u001b[0m\u001b[0m\n",
      "\u001b[0;31mAttributeError\u001b[0m: 'GeoDataFrame' object has no attribute 'u'"
     ]
    },
    {
     "data": {
      "image/png": "[encoded data removed]",
      "text/plain": [
       "<Figure size 1224x720 with 1 Axes>"
      ]
     },
     "metadata": {
      "needs_background": "light"
     },
     "output_type": "display_data"
    }
   ],
   "source": [
    "florida_polygon = Polygon([(-88, 24), (-88, 31), (-79, 31), (-79, 24)])\n",
    "\n",
    "world = gpd.read_file(gpd.datasets.get_path(\"naturalearth_lowres\"))\n",
    "n_america = world[world[\"name\"] == \"United States of America\"]\n",
    "\n",
    "fig, ax = plt.subplots(figsize=(17,10))\n",
    "\n",
    "florida_map = gpd.clip(n_america, florida_polygon)\n",
    "florida_map.plot(ax=ax, edgecolor=\"black\", color = \"blue\", alpha=0.5)\n",
    "\n",
    "edges = gpd.clip(edges, florida_polygon)\n",
    "edges.plot(ax=ax, color=\"red\")\n",
    "\n"
   ]
  },
  {
   "cell_type": "markdown",
   "metadata": {},
   "source": [
    "## Format the geodataframes"
   ]
  },
  {
   "cell_type": "code",
   "execution_count": null,
   "metadata": {},
   "outputs": [],
   "source": [
    "def keep_only_valid_usa_rail(nodes, edges):\n",
    "\n",
    "    edges = edges[edges.eval(\"(NET == 'I' | NET == 'M') &  COUNTRY == 'US'\")]\n",
    "    nodes = nodes[nodes.FRANODEID.isin(list(edges.u.values) + list(edges.v.values))]\n",
    "\n",
    "\n",
    "def format_gpdfs(nodes, edges, inplace=True):\n",
    "    \n",
    "    start = time.time()\n",
    "    if not inplace:\n",
    "        nodes = nodes.copy()\n",
    "        edges = edges.copy()\n",
    "\n",
    "    edges.rename(columns={'FRFRANODE':'u','TOFRANODE':'v'}, inplace=True)\n",
    "    edges['length'] = edges['KM']*1000\n",
    "    edges['mode'] = 'rail'\n",
    "    edges['CO2_eq_kg'] = pd.eval('edges.length /1000 * 0.0195254')\n",
    "    edges['key'] = 0\n",
    "\n",
    "    nodes['mode'] = 'rail'\n",
    "    nodes['key'] = 0\n",
    "    \n",
    "    keep_only_valid_usa_rail(nodes, edges)\n",
    "    nodes = nodes[nodes.FRANODEID.isin(list(edges.u.values) + list(edges.v.values))]\n",
    "\n",
    "    edges.drop(columns=['YARDNAME','CNTYFIPS','STCNTYFIPS','STATEAB','COUNTRY','FRAREGION','SUBDIV','CARDDIRECT','MILES', 'KM','ShapeSTLen','geometry'],inplace=True)\n",
    "    nodes.drop(columns=['OBJECTID','COUNTRY','STFIPS','CTYFIPS','FRAREGION','BNDRY','PASSNGR','PASSNGRSTN'],inplace=True)\n",
    "    nodes.set_index('FRANODEID', drop=False, inplace=True)\n",
    "    print(f'time elapsed: {time.time()-start}')\n",
    "\n",
    "format_gpdfs(nodes, edges)"
   ]
  },
  {
   "cell_type": "code",
   "execution_count": null,
   "metadata": {},
   "outputs": [],
   "source": [
    "edges.head(2)"
   ]
  },
  {
   "cell_type": "code",
   "execution_count": null,
   "metadata": {},
   "outputs": [],
   "source": [
    "edges.TRACKS.value_counts()"
   ]
  },
  {
   "cell_type": "markdown",
   "metadata": {},
   "source": [
    "This column is the track type, the FRA defined the tracktype as the speed at which trains can drive.\n",
    "URL: https://en.wikipedia.org/wiki/Rail_speed_limits_in_the_United_States#Track_classes"
   ]
  },
  {
   "cell_type": "markdown",
   "metadata": {},
   "source": [
    "One can observe many 0 Tracks. This is because there are many very short tracks in this data set (many of them are unused)"
   ]
  },
  {
   "cell_type": "code",
   "execution_count": null,
   "metadata": {},
   "outputs": [],
   "source": [
    "def add_speed_duration(edges):\n",
    "    start = time.time()\n",
    "    \n",
    "    track_to_speed_map = {0:10,1:16,2:40,3:64,4:97,5:130,6:180,13:97}\n",
    "    edges['speed_kmh'] = edges.TRACKS.replace(track_to_speed_map)\n",
    "    edges['duration_h'] = pd.eval('edges.length * 1000 / shp_lines.speed_kmh')\n",
    "    print(f'time elapsed: {time.time()-start}')\n",
    "    return edges\n"
   ]
  },
  {
   "cell_type": "markdown",
   "metadata": {},
   "source": [
    "Lets zoom in the Florida region to better understand the network "
   ]
  },
  {
   "cell_type": "code",
   "execution_count": null,
   "metadata": {},
   "outputs": [],
   "source": [
    "def lane_filter_by_operator(shp_file, operators):\n",
    "    # Filters the dataset, only keep the specified operators.\n",
    "    \n",
    "    mask = shp_lines.isin(operators).any(axis=1)\n",
    "    filtered_shp_lines = shp_lines[mask]\n",
    "    return filtered_shp_lines"
   ]
  },
  {
   "cell_type": "markdown",
   "metadata": {},
   "source": [
    "## Adding the intermodal facilities"
   ]
  },
  {
   "cell_type": "code",
   "execution_count": null,
   "metadata": {},
   "outputs": [],
   "source": [
    "intermodal_nodes = gpd.read_file('rail_data/Intermodal stations/Intermodal_Freight_Facilities_RailTOFCCOFC.shp')"
   ]
  },
  {
   "cell_type": "code",
   "execution_count": null,
   "metadata": {},
   "outputs": [],
   "source": [
    "intermodal_nodes.head(2)"
   ]
  },
  {
   "cell_type": "code",
   "execution_count": null,
   "metadata": {},
   "outputs": [],
   "source": [
    "def add_x_y_pos(gdf):\n",
    "    start = time.time()\n",
    "    pattern = re.compile(r'(-?\\d+\\.\\d+)')\n",
    "\n",
    "    coords = gdf.geometry.astype('str').str.extractall(pattern).unstack(level=-1)\n",
    "    coords.columns = coords.columns.droplevel()\n",
    "    coords.rename(columns={0: 'x', 1: 'y'}, inplace=True)\n",
    "    gdf['x'] = coords.x.astype(float) #Carefull this only works for USA\n",
    "    gdf['y'] = coords.y.astype(float)\n",
    "    print(f'time elapsed: {time.time()-start}')"
   ]
  },
  {
   "cell_type": "code",
   "execution_count": null,
   "metadata": {},
   "outputs": [],
   "source": [
    "add_x_y_pos(intermodal_nodes)\n",
    "add_x_y_pos(nodes)"
   ]
  },
  {
   "cell_type": "markdown",
   "metadata": {},
   "source": [
    "### Create a mapping from nodes to intermodal nodes"
   ]
  },
  {
   "cell_type": "code",
   "execution_count": null,
   "metadata": {},
   "outputs": [],
   "source": [
    "def map_rail_to_intermodal_nodes(intermodal_nodes, nodes):\n",
    "    rail_node = []\n",
    "    start = time.time()\n",
    "    for row in intermodal_nodes.itertuples():\n",
    "        dist = pd.eval('(nodes.x-row.x)**2 + (nodes.y-row.y)**2')\n",
    "        rail_node.append(dist.idxmin())\n",
    "\n",
    "    rail_to_intermodal_map = pd.Series(intermodal_nodes.OBJECTID.values, index=rail_node)\n",
    "    print(f'time elapsed: {time.time()-start}')\n",
    "    return rail_to_intermodal_map\n",
    "\n",
    "intermodal_map = map_rail_to_intermodal_nodes(intermodal_nodes, nodes)"
   ]
  },
  {
   "cell_type": "code",
   "execution_count": null,
   "metadata": {},
   "outputs": [],
   "source": [
    "intermodal_map"
   ]
  },
  {
   "cell_type": "code",
   "execution_count": null,
   "metadata": {},
   "outputs": [],
   "source": [
    "nodes[nodes.FRANODEID<200]"
   ]
  },
  {
   "cell_type": "code",
   "execution_count": null,
   "metadata": {},
   "outputs": [],
   "source": [
    "def add_intermodal_nodes(intermodal_map, nodes, edges):\n",
    "    start = time.time()\n",
    "    nodes.loc[:,'FRANODEID'].replace(intermodal_map, inplace=True)\n",
    "    edges.loc[:,['u','v']] = edges.loc[:,['u','v']].replace(intermodal_map)\n",
    "    print(f'time elapsed: {time.time()-start}')\n",
    "    \n",
    "    \n",
    "add_intermodal_nodes(intermodal_map,nodes,edges)"
   ]
  },
  {
   "cell_type": "code",
   "execution_count": null,
   "metadata": {},
   "outputs": [],
   "source": [
    "G = ox.graph_from_gdfs(nodes, edges)"
   ]
  },
  {
   "cell_type": "code",
   "execution_count": null,
   "metadata": {},
   "outputs": [],
   "source": [
    "fig, ax = ox.plot_graph(G,node_color='blue',bgcolor='white',node_alpha=0.5,edge_color='black')"
   ]
  },
  {
   "cell_type": "code",
   "execution_count": null,
   "metadata": {},
   "outputs": [],
   "source": [
    "nodes_to_keep = list(nodes[nodes.index < 200].index)\n",
    "attributes_to_sum = ['length','CO2_eq_kg','duration_h','geometry']\n",
    "\n",
    "G_s = simplify.simplify_graph(G,attributes_to_sum = attributes_to_sum,nodes_to_keep=nodes_to_keep)"
   ]
  },
  {
   "cell_type": "code",
   "execution_count": null,
   "metadata": {},
   "outputs": [],
   "source": [
    "fig, ax = ox.plot_graph(G_s,node_color='blue',bgcolor='white',node_alpha=0.5,edge_color='black')"
   ]
  },
  {
   "cell_type": "code",
   "execution_count": null,
   "metadata": {},
   "outputs": [],
   "source": [
    "G_u = G_s.to_undirected()\n",
    "largest_cc_nodes = max(nx.connected_components(G_u), key=len)\n",
    "largest_cc = G_u.subgraph(largest_cc_nodes).copy()\n",
    "\n",
    "fig, ax = ox.plot_graph(largest_cc,node_color='blue',bgcolor='white',node_alpha=0.5)"
   ]
  },
  {
   "cell_type": "code",
   "execution_count": null,
   "metadata": {},
   "outputs": [],
   "source": [
    "nx.write_gpickle(largest_cc,'rail_data/simplified_rail_net_florida.plk')"
   ]
  },
  {
   "cell_type": "markdown",
   "metadata": {},
   "source": [
    "The whole data set has now been cleaned."
   ]
  }
 ],
 "metadata": {
  "kernelspec": {
   "display_name": "Python 3",
   "language": "python",
   "name": "python3"
  },
  "language_info": {
   "codemirror_mode": {
    "name": "ipython",
    "version": 3
   },
   "file_extension": ".py",
   "mimetype": "text/x-python",
   "name": "python",
   "nbconvert_exporter": "python",
   "pygments_lexer": "ipython3",
   "version": "3.7.1"
  }
 },
 "nbformat": 4,
 "nbformat_minor": 4
}
