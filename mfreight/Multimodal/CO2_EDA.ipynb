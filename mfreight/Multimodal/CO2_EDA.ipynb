{
 "cells": [
  {
   "cell_type": "markdown",
   "metadata": {},
   "source": [
    "# Compute the CO2 equ of a Rail and Road transport (diesel powered)"
   ]
  },
  {
   "cell_type": "code",
   "execution_count": 4,
   "metadata": {},
   "outputs": [],
   "source": [
    "import pandas as pd"
   ]
  },
  {
   "cell_type": "code",
   "execution_count": 5,
   "metadata": {},
   "outputs": [],
   "source": [
    "rail_per_tkm_emissions = pd.Series({'CO2':0.018949,'CO':0.00004912,'CH4':0.0000009048,'NOx':0.0004986,'SO':0.0000041881,'NMVOC':0.00001846})\n",
    "road_per_tkm_emissions = pd.Series({'CO2':0.07987,'CO':0.00012696,'CH4':0.0000012888,'NOx':0.0005322,'SO':0.0000175900,'NMVOC':0.00002629})"
   ]
  },
  {
   "cell_type": "markdown",
   "metadata": {},
   "source": [
    "Source Simapro USLCI `RAIL`\n",
    "Source Simapro USLCI `Transport, combination truck, diesel powered/US`"
   ]
  },
  {
   "cell_type": "code",
   "execution_count": 6,
   "metadata": {},
   "outputs": [
    {
     "data": {
      "text/plain": [
       "CO2      1.894900e-02\n",
       "CO       4.912000e-05\n",
       "CH4      9.048000e-07\n",
       "NOx      4.986000e-04\n",
       "SO       4.188100e-06\n",
       "NMVOC    1.846000e-05\n",
       "dtype: float64"
      ]
     },
     "execution_count": 6,
     "metadata": {},
     "output_type": "execute_result"
    }
   ],
   "source": [
    "rail_per_tkm_emissions"
   ]
  },
  {
   "cell_type": "code",
   "execution_count": 7,
   "metadata": {},
   "outputs": [
    {
     "data": {
      "text/plain": [
       "CO2      0.018949\n",
       "CO       0.000000\n",
       "CH4      0.000078\n",
       "NOx      0.000499\n",
       "SO       0.000000\n",
       "NMVOC    0.000000\n",
       "dtype: float64"
      ]
     },
     "execution_count": 7,
     "metadata": {},
     "output_type": "execute_result"
    }
   ],
   "source": [
    "emissions_to_co2e = pd.Series({'CO2':1,'CO':0,'CH4':86,'NOx':1,'SO':0,'NMVOC':0})\n",
    "rail_per_tkm_emissions * emissions_to_co2e"
   ]
  },
  {
   "cell_type": "markdown",
   "metadata": {},
   "source": [
    "Source: https://en.wikipedia.org/wiki/Global_warming_potential"
   ]
  },
  {
   "cell_type": "code",
   "execution_count": 8,
   "metadata": {},
   "outputs": [
    {
     "data": {
      "text/plain": [
       "0.0195254128"
      ]
     },
     "execution_count": 8,
     "metadata": {},
     "output_type": "execute_result"
    }
   ],
   "source": [
    "CO2_eq_rail = sum(rail_per_tkm_emissions * emissions_to_co2e)\n",
    "CO2_eq_rail"
   ]
  },
  {
   "cell_type": "code",
   "execution_count": 9,
   "metadata": {},
   "outputs": [
    {
     "data": {
      "text/plain": [
       "CO2      0.079870\n",
       "CO       0.000000\n",
       "CH4      0.000111\n",
       "NOx      0.000532\n",
       "SO       0.000000\n",
       "NMVOC    0.000000\n",
       "dtype: float64"
      ]
     },
     "execution_count": 9,
     "metadata": {},
     "output_type": "execute_result"
    }
   ],
   "source": [
    "road_per_tkm_emissions * emissions_to_co2e"
   ]
  },
  {
   "cell_type": "code",
   "execution_count": 10,
   "metadata": {},
   "outputs": [
    {
     "data": {
      "text/plain": [
       "0.08051303679999999"
      ]
     },
     "execution_count": 10,
     "metadata": {},
     "output_type": "execute_result"
    }
   ],
   "source": [
    "CO2_eq_road = sum(road_per_tkm_emissions * emissions_to_co2e)\n",
    "CO2_eq_road"
   ]
  },
  {
   "cell_type": "code",
   "execution_count": 11,
   "metadata": {},
   "outputs": [
    {
     "name": "stdout",
     "output_type": "stream",
     "text": [
      "ratio of emissions between Rail and truck 0.24251243743919992\n"
     ]
    }
   ],
   "source": [
    "print(f'ratio of emissions between Rail and truck {CO2_eq_rail/CO2_eq_road}')"
   ]
  },
  {
   "cell_type": "code",
   "execution_count": null,
   "metadata": {},
   "outputs": [],
   "source": []
  }
 ],
 "metadata": {
  "kernelspec": {
   "display_name": "Python 3",
   "language": "python",
   "name": "python3"
  },
  "language_info": {
   "codemirror_mode": {
    "name": "ipython",
    "version": 3
   },
   "file_extension": ".py",
   "mimetype": "text/x-python",
   "name": "python",
   "nbconvert_exporter": "python",
   "pygments_lexer": "ipython3",
   "version": "3.7.1"
  }
 },
 "nbformat": 4,
 "nbformat_minor": 4
}
