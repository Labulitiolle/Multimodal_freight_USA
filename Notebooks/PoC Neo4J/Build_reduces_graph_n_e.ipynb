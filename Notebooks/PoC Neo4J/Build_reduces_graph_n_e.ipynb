{
 "cells": [
  {
   "cell_type": "code",
   "execution_count": null,
   "metadata": {},
   "outputs": [],
   "source": [
    "import pandas as pd\n",
    "import time\n",
    "import osmnx as ox\n",
    "import networkx as nx\n",
    "\n",
    "import sys\n",
    "sys.path.append('../../../Multimodal_freight_USA/')\n",
    "from mfreight.Multimodal.graph_utils import MultimodalNet\n",
    "\n",
    "\n",
    "departure_x, departure_y = (45.439440, -100.057166) #(40.439440, -85.057166)\n",
    "arrival_x, arrival_y = (25.382380, -80.475159)"
   ]
  },
  {
   "cell_type": "code",
   "execution_count": null,
   "metadata": {},
   "outputs": [],
   "source": [
    "start = time.time()\n",
    "Net = MultimodalNet(path_u= \"../../mfreight/Multimodal/data/multimodal_G_tot_u_w_price.plk\")\n",
    "print(f'Load class time elapsed: {time.time()-start}s')"
   ]
  },
  {
   "cell_type": "code",
   "execution_count": null,
   "metadata": {},
   "outputs": [],
   "source": [
    "nodes_to_remove = [n for n in Net.G_multimodal_u.nodes if Net.G_multimodal_u.nodes[n]['x']>-110]\n",
    "\n",
    "G =Net.G_multimodal_u.copy()\n",
    "G.remove_nodes_from(nodes_to_remove)\n",
    "\n",
    "plot.plot_multimodal_graph(G)\n",
    "\n",
    "orig = (36.055270, -115.089709) #LA\n",
    "dest = (47.555941, -122.311827) #Seattle\n",
    "node_orig = ox.get_nearest_node(G, departure, method=\"haversine\", return_dist=False)\n",
    "node_dest = ox.get_nearest_node(G, arrival, method=\"haversine\", return_dist=False)\n",
    "\n",
    "start = time.time()\n",
    "path = Net.get_shortest_path(orig,dest,target_weight='CO2_eq_kg', G=G)\n",
    "print(f'Elpased time: {time.time()-start}s')"
   ]
  },
  {
   "cell_type": "code",
   "execution_count": null,
   "metadata": {},
   "outputs": [],
   "source": [
    "cost_list = [G.edges[u,v]['CO2_eq_kg'] for u,v in zip(path[:-1], path[1:])]\n",
    "sum(cost_list)"
   ]
  },
  {
   "cell_type": "code",
   "execution_count": null,
   "metadata": {},
   "outputs": [],
   "source": [
    "n,e = build_graph.graph_to_gdfs2(G)\n",
    "\n",
    "# n.to_csv('nodes_west_coast')\n",
    "# e.to_csv('edgeses_west_coast')"
   ]
  },
  {
   "cell_type": "code",
   "execution_count": null,
   "metadata": {},
   "outputs": [],
   "source": [
    "node_orig = ox.get_nearest_node(G, orig, method=\"haversine\", return_dist=False)\n",
    "node_dest = ox.get_nearest_node(G, dest, method=\"haversine\", return_dist=False)\n",
    "\n",
    "print(node_orig, node_dest)\n",
    "\n",
    "nx.info(Net.G_multimodal_u)"
   ]
  }
 ],
 "metadata": {
  "kernelspec": {
   "display_name": "Multimodal_freight_USA",
   "language": "python",
   "name": "multimodal_freight_usa"
  },
  "language_info": {
   "codemirror_mode": {
    "name": "ipython",
    "version": 3
   },
   "file_extension": ".py",
   "mimetype": "text/x-python",
   "name": "python",
   "nbconvert_exporter": "python",
   "pygments_lexer": "ipython3",
   "version": "3.8.6"
  }
 },
 "nbformat": 4,
 "nbformat_minor": 4
}
