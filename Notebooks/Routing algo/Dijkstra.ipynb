{
 "cells": [
  {
   "cell_type": "markdown",
   "metadata": {},
   "source": [
    "# Dijkstra rank"
   ]
  },
  {
   "cell_type": "markdown",
   "metadata": {},
   "source": [
    "<b>Definition:</b> <br>\n",
    "When running Dijkstra’s\n",
    "algorithm from a vertex s, the rank of a vertex u is the order in which it is taken from\n",
    "the priority queue. [1]"
   ]
  },
  {
   "cell_type": "code",
   "execution_count": 1,
   "metadata": {},
   "outputs": [],
   "source": [
    "import networkx as nx\n",
    "from heapq import heappush, heappop\n",
    "from itertools import count"
   ]
  },
  {
   "cell_type": "markdown",
   "metadata": {},
   "source": [
    "## Test and understand the binary heap queu "
   ]
  },
  {
   "cell_type": "code",
   "execution_count": 2,
   "metadata": {},
   "outputs": [
    {
     "data": {
      "text/plain": [
       "(1, 3, 'write spec')"
      ]
     },
     "execution_count": 2,
     "metadata": {},
     "output_type": "execute_result"
    }
   ],
   "source": [
    "h = []\n",
    "heappush(h, (5,4, 'write code'))\n",
    "heappush(h, (7,1, 'release product'))\n",
    "heappush(h, (1,3, 'write spec'))\n",
    "heappush(h, (3,10, 'create tests'))\n",
    "heappop(h)"
   ]
  },
  {
   "cell_type": "markdown",
   "metadata": {},
   "source": [
    "## Build and test a Dijkstra search algo to keep the dijkstra rank"
   ]
  },
  {
   "cell_type": "code",
   "execution_count": 3,
   "metadata": {},
   "outputs": [],
   "source": [
    "G = nx.Graph()\n",
    "G.add_edge(1,2, **{'name':'first','weight':1})\n",
    "G.add_edge(1,3,**{'name':'first','weight':1})\n",
    "G.add_edge(1,9,**{'name':'first','weight':2.2})\n",
    "G.add_edge(1,4,**{'name':'first','weight':3})\n",
    "G.add_edge(1,5,**{'name':'first','weight':4})\n",
    "G.add_edge(2,8,**{'name':'first','weight':1})\n",
    "G.add_edge(3,6,**{'name':'first','weight':12})\n",
    "G.add_edge(3,70,**{'name':'first','weight':21})\n",
    "G.add_edge(70,80,**{'name':'first','weight':21})"
   ]
  },
  {
   "cell_type": "code",
   "execution_count": 4,
   "metadata": {},
   "outputs": [],
   "source": [
    "def weight(u, v, data):\n",
    "    return lambda u, v, data: data.get(weight_str, 1)\n",
    "\n",
    "def dijkstra(\n",
    "    G, source, weight_str, pred=None, paths=None, cutoff=None, target=None, _print=False\n",
    "):\n",
    "\n",
    "    G_succ = G._succ if G.is_directed() else G._adj\n",
    "    \n",
    "    weight = lambda u, v, data: data.get(weight_str, 1)\n",
    "    \n",
    "    push = heappush\n",
    "    pop = heappop\n",
    "    dist = {}  # dictionary of final distances\n",
    "    seen = {}\n",
    "    # fringe is heapq with 3-tuples (distance,c,node)\n",
    "    # use the count c to avoid comparing nodes (may not be able to)\n",
    "    c = count()\n",
    "    fringe = []\n",
    "    if source not in G:\n",
    "        raise nx.NodeNotFound(f\"Source {source} not in G\")\n",
    "        \n",
    "    if target not in G:\n",
    "        raise nx.NodeNotFound(f\"Target {source} not in G\")\n",
    "\n",
    "    seen[source] = 0\n",
    "    push(fringe, (0, next(c), source))\n",
    "    while fringe:\n",
    "        if _print:\n",
    "            print(fringe)\n",
    "        (d, rank, v) = pop(fringe)\n",
    "        if v in dist:\n",
    "            continue  # already searched this node.\n",
    "            \n",
    "        dist[v] = d\n",
    "        if v == target:\n",
    "            break\n",
    "        for u, e in G_succ[v].items():\n",
    "            cost = e.get(weight_str, 1)\n",
    "            if cost is None:\n",
    "                continue\n",
    "            vu_dist = dist[v] + cost\n",
    "            \n",
    "            if cutoff is not None:\n",
    "                if vu_dist > cutoff:\n",
    "                    continue\n",
    "            if u in dist:\n",
    "                u_dist = dist[u]\n",
    "                if vu_dist < u_dist:\n",
    "                    raise ValueError(\"Contradictory paths found:\", \"negative weights?\")\n",
    "                elif pred is not None and vu_dist == u_dist:\n",
    "                    pred[u].append(v)\n",
    "            elif u not in seen or vu_dist < seen[u]:\n",
    "                seen[u] = vu_dist\n",
    "                push(fringe, (vu_dist, next(c), u))\n",
    "                if paths is not None:\n",
    "                    paths[u] = paths[v] + [u]\n",
    "                if pred is not None:\n",
    "                    pred[u] = [v]\n",
    "            elif vu_dist == seen[u]:\n",
    "                if pred is not None:\n",
    "                    pred[u].append(v)\n",
    "\n",
    "    # The optional predecessor and path dictionaries can be accessed\n",
    "    # by the caller via the pred and paths objects passed as arguments.\n",
    "    return dist, rank"
   ]
  },
  {
   "cell_type": "code",
   "execution_count": 6,
   "metadata": {},
   "outputs": [
    {
     "name": "stdout",
     "output_type": "stream",
     "text": [
      "[(0, 0, 1)]\n",
      "[(1, 1, 2), (1, 2, 3), (2.2, 3, 9), (3, 4, 4), (4, 5, 5)]\n",
      "[(1, 2, 3), (2, 6, 8), (2.2, 3, 9), (4, 5, 5), (3, 4, 4)]\n",
      "[(2, 6, 8), (3, 4, 4), (2.2, 3, 9), (4, 5, 5), (13, 7, 6), (22, 8, 70)]\n",
      "[(2.2, 3, 9), (3, 4, 4), (22, 8, 70), (4, 5, 5), (13, 7, 6)]\n",
      "[(3, 4, 4), (4, 5, 5), (22, 8, 70), (13, 7, 6)]\n",
      "[(4, 5, 5), (13, 7, 6), (22, 8, 70)]\n",
      "[(13, 7, 6), (22, 8, 70)]\n",
      "[(22, 8, 70)]\n",
      "[(43, 9, 80)]\n"
     ]
    }
   ],
   "source": [
    "target = 80\n",
    "source = 1\n",
    "paths = {source:[source]}\n",
    "dist, rank = dijkstra(G, \n",
    "                      source=source, \n",
    "                      pred={}, \n",
    "                      weight_str='weight', \n",
    "                      paths=paths, \n",
    "                      cutoff=None, \n",
    "                      target=target,\n",
    "                      _print=True)"
   ]
  },
  {
   "cell_type": "code",
   "execution_count": 7,
   "metadata": {},
   "outputs": [
    {
     "data": {
      "text/plain": [
       "43"
      ]
     },
     "execution_count": 7,
     "metadata": {},
     "output_type": "execute_result"
    }
   ],
   "source": [
    "dist[target]"
   ]
  },
  {
   "cell_type": "code",
   "execution_count": 8,
   "metadata": {},
   "outputs": [
    {
     "data": {
      "text/plain": [
       "9"
      ]
     },
     "execution_count": 8,
     "metadata": {},
     "output_type": "execute_result"
    }
   ],
   "source": [
    "rank"
   ]
  },
  {
   "cell_type": "code",
   "execution_count": 9,
   "metadata": {},
   "outputs": [
    {
     "data": {
      "text/plain": [
       "[1, 3, 70, 80]"
      ]
     },
     "execution_count": 9,
     "metadata": {},
     "output_type": "execute_result"
    }
   ],
   "source": [
    "paths[target]"
   ]
  },
  {
   "cell_type": "code",
   "execution_count": 10,
   "metadata": {},
   "outputs": [
    {
     "data": {
      "text/plain": [
       "{1: [1],\n",
       " 2: [1, 2],\n",
       " 3: [1, 3],\n",
       " 9: [1, 9],\n",
       " 4: [1, 4],\n",
       " 5: [1, 5],\n",
       " 8: [1, 2, 8],\n",
       " 6: [1, 3, 6],\n",
       " 70: [1, 3, 70],\n",
       " 80: [1, 3, 70, 80]}"
      ]
     },
     "execution_count": 10,
     "metadata": {},
     "output_type": "execute_result"
    }
   ],
   "source": [
    "paths"
   ]
  },
  {
   "cell_type": "markdown",
   "metadata": {},
   "source": [
    "## Compute path searches on the multimodal graph "
   ]
  },
  {
   "cell_type": "code",
   "execution_count": 11,
   "metadata": {},
   "outputs": [],
   "source": [
    "import osmnx as ox\n",
    "\n",
    "import sys\n",
    "sys.path.append('../../../Multimodal_freight_USA/')\n",
    "from mfreight.Multimodal.graph_utils import MultimodalNet"
   ]
  },
  {
   "cell_type": "code",
   "execution_count": 12,
   "metadata": {},
   "outputs": [],
   "source": [
    "Net = MultimodalNet(path_u= \"../../mfreight/Multimodal/data/multimodal_G_tot_u_w_price.plk\")"
   ]
  },
  {
   "cell_type": "markdown",
   "metadata": {},
   "source": [
    "# Medium haul"
   ]
  },
  {
   "cell_type": "code",
   "execution_count": 14,
   "metadata": {},
   "outputs": [],
   "source": [
    "price_target = \"('AR', 'CA')\"\n",
    "target = 'CO2_eq_kg'"
   ]
  },
  {
   "cell_type": "code",
   "execution_count": 15,
   "metadata": {},
   "outputs": [],
   "source": [
    "def loop_dijkstra_rank(departures, arrivals, target):\n",
    "    ranks = []\n",
    "    paths_len = []\n",
    "    for departure, arrival in zip(departures.values(), arrivals.values()):\n",
    "        node_orig = ox.get_nearest_node(Net.G_reachable_nodes, departure, method=\"haversine\", return_dist=False)\n",
    "        node_dest = ox.get_nearest_node(Net.G_reachable_nodes, arrival, method=\"haversine\", return_dist=False)\n",
    "        paths = {node_orig:[node_orig]}\n",
    "        _, rank = dijkstra(Net.G_multimodal_u, \n",
    "                              source=node_orig, \n",
    "                              pred={}, \n",
    "                              weight_str=target, \n",
    "                              paths=paths, \n",
    "                              cutoff=None, \n",
    "                              target=node_dest)\n",
    "        ranks.append(rank)\n",
    "        paths_len.append(len(paths[node_dest]))\n",
    "        \n",
    "    return ranks, paths_len"
   ]
  },
  {
   "cell_type": "code",
   "execution_count": 16,
   "metadata": {},
   "outputs": [],
   "source": [
    "departures={'Chicago':(41.763705, -87.714903),\n",
    "            'Denver':(39.665040, -105.046780),\n",
    "            'Dallas':(32.772557, -96.774195)}\n",
    "\n",
    "arrivals={'Atlanta':(33.654622, -84.249274),\n",
    "          'Phoenix':(33.438505, -112.075594),\n",
    "          'Louisville':(38.246108, -85.744561)}\n",
    "\n",
    "distance = [723,\n",
    "           817,\n",
    "           836]"
   ]
  },
  {
   "cell_type": "code",
   "execution_count": 19,
   "metadata": {},
   "outputs": [
    {
     "name": "stdout",
     "output_type": "stream",
     "text": [
      "rank: 28565, path_weight: 174, distance [miles]: 723\n",
      "rank: 16013, path_weight: 138, distance [miles]: 817\n",
      "rank: 19082, path_weight: 121, distance [miles]: 836\n"
     ]
    }
   ],
   "source": [
    "ranks, paths_len = loop_dijkstra_rank(departures=departures, arrivals=arrivals, target='CO2_eq_kg')\n",
    "for r,p,d in zip(ranks, paths_len, distance):\n",
    "    print(f'rank: {r}, path_weight: {p}, distance [miles]: {d}')"
   ]
  },
  {
   "cell_type": "code",
   "execution_count": 20,
   "metadata": {},
   "outputs": [
    {
     "name": "stdout",
     "output_type": "stream",
     "text": [
      "rank: 41689, path_weight: 174, distance [miles]: 723\n",
      "rank: 21590, path_weight: 90, distance [miles]: 817\n",
      "rank: 30253, path_weight: 121, distance [miles]: 836\n"
     ]
    }
   ],
   "source": [
    "ranks, paths_len = loop_dijkstra_rank(departures, arrivals, \"('AR', 'CA')\")\n",
    "for r,p,d in zip(ranks, paths_len, distance):\n",
    "    print(f'rank: {r}, path_weight: {p}, distance [miles]: {d}')"
   ]
  },
  {
   "cell_type": "markdown",
   "metadata": {},
   "source": [
    "All theses origin destiation are chosen not to be too close form the ocean (this would bias the rank)"
   ]
  },
  {
   "cell_type": "markdown",
   "metadata": {},
   "source": [
    "# Long haul"
   ]
  },
  {
   "cell_type": "code",
   "execution_count": 21,
   "metadata": {},
   "outputs": [],
   "source": [
    "departures={'LA':(33.998788, -118.226320),\n",
    "            'Vega':(36.097687, -115.201823),\n",
    "            'Seatle':(29.739678, -95.378221)}\n",
    "\n",
    "arrivals={'Seatle':(47.612580, -122.312518),\n",
    "          'Nashville':(36.155835, -86.797575),\n",
    "          'Houston':(47.612580, -122.312518)}\n",
    "\n",
    "distance = [1140,\n",
    "           1793,\n",
    "           2300]"
   ]
  },
  {
   "cell_type": "code",
   "execution_count": 22,
   "metadata": {},
   "outputs": [
    {
     "name": "stdout",
     "output_type": "stream",
     "text": [
      "rank: 16350, path_weight: 231, distance [miles]: 1140\n",
      "rank: 46100, path_weight: 264, distance [miles]: 1793\n",
      "rank: 95892, path_weight: 291, distance [miles]: 2300\n"
     ]
    }
   ],
   "source": [
    "ranks, paths_len = loop_dijkstra_rank(departures, arrivals, 'CO2_eq_kg')\n",
    "for r,p,d in zip(ranks, paths_len, distance):\n",
    "    print(f'rank: {r}, path_weight: {p}, distance [miles]: {d}')"
   ]
  },
  {
   "cell_type": "code",
   "execution_count": 23,
   "metadata": {},
   "outputs": [
    {
     "name": "stdout",
     "output_type": "stream",
     "text": [
      "elapsed time 3.2993290424346924\n",
      "rank: 21485, path_weight: 238, distance [miles]: 1140\n",
      "rank: 61884, path_weight: 224, distance [miles]: 1793\n",
      "rank: 101674, path_weight: 291, distance [miles]: 2300\n"
     ]
    }
   ],
   "source": [
    "import time\n",
    "start=time.time()\n",
    "\n",
    "ranks, paths_len = loop_dijkstra_rank(departures, arrivals, \"('AR', 'CA')\")\n",
    "print(f'elapsed time {time.time()-start}')\n",
    "for r,p,d in zip(ranks, paths_len, distance):\n",
    "    print(f'rank: {r}, path_weight: {p}, distance [miles]: {d}')"
   ]
  },
  {
   "cell_type": "markdown",
   "metadata": {},
   "source": [
    "# Observations"
   ]
  },
  {
   "cell_type": "markdown",
   "metadata": {},
   "source": [
    "The rank is proportionnal to the distance between the origin and the destination when the routes are not too close to the borders of hte graph. \n",
    "The rank varies depending on the target weight. "
   ]
  },
  {
   "cell_type": "markdown",
   "metadata": {},
   "source": [
    "## Ref"
   ]
  },
  {
   "cell_type": "markdown",
   "metadata": {},
   "source": [
    "[1]Peter Sanders and Dominik Schultes. Highway hierarchies hasten exact shortest path queries. In Proceedings of the 13th Annual European Symposium on Algorithms (ESA’05), volume 3669 of Lecture Notes in Computer Science, pages 568–579. Springer, 2005."
   ]
  }
 ],
 "metadata": {
  "kernelspec": {
   "display_name": "Multimodal_freight_USA",
   "language": "python",
   "name": "multimodal_freight_usa"
  },
  "language_info": {
   "codemirror_mode": {
    "name": "ipython",
    "version": 3
   },
   "file_extension": ".py",
   "mimetype": "text/x-python",
   "name": "python",
   "nbconvert_exporter": "python",
   "pygments_lexer": "ipython3",
   "version": "3.8.6"
  }
 },
 "nbformat": 4,
 "nbformat_minor": 4
}
