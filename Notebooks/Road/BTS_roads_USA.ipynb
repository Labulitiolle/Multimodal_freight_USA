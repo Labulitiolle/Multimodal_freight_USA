{
 "cells": [
  {
   "cell_type": "markdown",
   "metadata": {},
   "source": [
    "# Generating BTS roads network in the USA"
   ]
  },
  {
   "cell_type": "code",
   "execution_count": 1,
   "metadata": {},
   "outputs": [],
   "source": [
    "import geopandas as gpd\n",
    "import networkx as nx\n",
    "import osmnx as ox\n",
    "import matplotlib.pyplot as plt\n",
    "import pandas as pd\n",
    "import collections\n",
    "import re\n",
    "import numpy as np\n",
    "import time\n",
    "\n",
    "from shapely.geometry import Polygon, LineString, Point"
   ]
  },
  {
   "cell_type": "code",
   "execution_count": 2,
   "metadata": {},
   "outputs": [],
   "source": [
    "pd.set_option('display.max_columns', None)\n",
    "usa_roads = gpd.read_file(\"../../mfreight/Road/data/National_Highway_Network-shp/National_Highway_Planning_Network.shp\")"
   ]
  },
  {
   "cell_type": "code",
   "execution_count": 3,
   "metadata": {},
   "outputs": [
    {
     "data": {
      "text/html": [
       "<div>\n",
       "<style scoped>\n",
       "    .dataframe tbody tr th:only-of-type {\n",
       "        vertical-align: middle;\n",
       "    }\n",
       "\n",
       "    .dataframe tbody tr th {\n",
       "        vertical-align: top;\n",
       "    }\n",
       "\n",
       "    .dataframe thead th {\n",
       "        text-align: right;\n",
       "    }\n",
       "</style>\n",
       "<table border=\"1\" class=\"dataframe\">\n",
       "  <thead>\n",
       "    <tr style=\"text-align: right;\">\n",
       "      <th></th>\n",
       "      <th>OBJECTID</th>\n",
       "      <th>YEAR_RECOR</th>\n",
       "      <th>ROUTE_ID</th>\n",
       "      <th>BEGIN_POIN</th>\n",
       "      <th>END_POINT</th>\n",
       "      <th>F_SYSTEM</th>\n",
       "      <th>FACILITY_T</th>\n",
       "      <th>URBAN_CODE</th>\n",
       "      <th>RECTYPE</th>\n",
       "      <th>VERSION</th>\n",
       "      <th>RECID</th>\n",
       "      <th>ORIGID</th>\n",
       "      <th>CTFIPS</th>\n",
       "      <th>SOURCE</th>\n",
       "      <th>LGURB</th>\n",
       "      <th>SMURB</th>\n",
       "      <th>SIGN1</th>\n",
       "      <th>SIGNT1</th>\n",
       "      <th>SIGNN1</th>\n",
       "      <th>SIGNQ1</th>\n",
       "      <th>SIGN2</th>\n",
       "      <th>SIGNT2</th>\n",
       "      <th>SIGNN2</th>\n",
       "      <th>SIGNQ2</th>\n",
       "      <th>SIGN3</th>\n",
       "      <th>SIGNT3</th>\n",
       "      <th>SIGNN3</th>\n",
       "      <th>SIGNQ3</th>\n",
       "      <th>LNAME</th>\n",
       "      <th>MILES</th>\n",
       "      <th>KM</th>\n",
       "      <th>FCLASS</th>\n",
       "      <th>RUCODE</th>\n",
       "      <th>STATUS</th>\n",
       "      <th>NHS</th>\n",
       "      <th>STRAHNET</th>\n",
       "      <th>FAC_ID</th>\n",
       "      <th>CONN_ID</th>\n",
       "      <th>CONN_DES</th>\n",
       "      <th>CONN_MILES</th>\n",
       "      <th>LRSKEY</th>\n",
       "      <th>LRSSEQ</th>\n",
       "      <th>BEGMP</th>\n",
       "      <th>ENDMP</th>\n",
       "      <th>STFIPS</th>\n",
       "      <th>ShapeSTLen</th>\n",
       "      <th>geometry</th>\n",
       "    </tr>\n",
       "  </thead>\n",
       "  <tbody>\n",
       "    <tr>\n",
       "      <th>0</th>\n",
       "      <td>1</td>\n",
       "      <td>2011</td>\n",
       "      <td>150000</td>\n",
       "      <td>157.020</td>\n",
       "      <td>176.061</td>\n",
       "      <td>3</td>\n",
       "      <td>2</td>\n",
       "      <td>99999</td>\n",
       "      <td>L</td>\n",
       "      <td>2014.05</td>\n",
       "      <td>2002148</td>\n",
       "      <td>2002148</td>\n",
       "      <td>290</td>\n",
       "      <td>H</td>\n",
       "      <td>0</td>\n",
       "      <td>0</td>\n",
       "      <td>S65</td>\n",
       "      <td>S</td>\n",
       "      <td>65</td>\n",
       "      <td>None</td>\n",
       "      <td>None</td>\n",
       "      <td>None</td>\n",
       "      <td>None</td>\n",
       "      <td>None</td>\n",
       "      <td>None</td>\n",
       "      <td>None</td>\n",
       "      <td>None</td>\n",
       "      <td>None</td>\n",
       "      <td>JAMES DALTON HWY</td>\n",
       "      <td>18.070</td>\n",
       "      <td>29.081</td>\n",
       "      <td>2</td>\n",
       "      <td>1</td>\n",
       "      <td>1</td>\n",
       "      <td>7</td>\n",
       "      <td>0</td>\n",
       "      <td>None</td>\n",
       "      <td>None</td>\n",
       "      <td>None</td>\n",
       "      <td>0.0</td>\n",
       "      <td>001500000000002</td>\n",
       "      <td>2</td>\n",
       "      <td>75.236</td>\n",
       "      <td>193.382</td>\n",
       "      <td>02</td>\n",
       "      <td>78290.607852</td>\n",
       "      <td>LINESTRING (-150.28945 67.01801, -150.28940 67...</td>\n",
       "    </tr>\n",
       "    <tr>\n",
       "      <th>1</th>\n",
       "      <td>2</td>\n",
       "      <td>2010</td>\n",
       "      <td>50</td>\n",
       "      <td>0.493</td>\n",
       "      <td>0.931</td>\n",
       "      <td>3</td>\n",
       "      <td>2</td>\n",
       "      <td>99998</td>\n",
       "      <td>L</td>\n",
       "      <td>2014.05</td>\n",
       "      <td>15001104</td>\n",
       "      <td>15001104</td>\n",
       "      <td>7</td>\n",
       "      <td>H</td>\n",
       "      <td>0</td>\n",
       "      <td>0</td>\n",
       "      <td>S50</td>\n",
       "      <td>S</td>\n",
       "      <td>50</td>\n",
       "      <td>None</td>\n",
       "      <td>None</td>\n",
       "      <td>None</td>\n",
       "      <td>None</td>\n",
       "      <td>None</td>\n",
       "      <td>None</td>\n",
       "      <td>None</td>\n",
       "      <td>None</td>\n",
       "      <td>None</td>\n",
       "      <td>KAUMUALII HWY</td>\n",
       "      <td>0.428</td>\n",
       "      <td>0.689</td>\n",
       "      <td>6</td>\n",
       "      <td>2</td>\n",
       "      <td>1</td>\n",
       "      <td>7</td>\n",
       "      <td>0</td>\n",
       "      <td>None</td>\n",
       "      <td>None</td>\n",
       "      <td>None</td>\n",
       "      <td>0.0</td>\n",
       "      <td>000000005000007</td>\n",
       "      <td>10</td>\n",
       "      <td>30.895</td>\n",
       "      <td>31.953</td>\n",
       "      <td>15</td>\n",
       "      <td>748.807358</td>\n",
       "      <td>LINESTRING (-159.38840 21.96962, -159.38724 21...</td>\n",
       "    </tr>\n",
       "  </tbody>\n",
       "</table>\n",
       "</div>"
      ],
      "text/plain": [
       "   OBJECTID  YEAR_RECOR ROUTE_ID  BEGIN_POIN  END_POINT  F_SYSTEM  FACILITY_T  \\\n",
       "0         1        2011   150000     157.020    176.061         3           2   \n",
       "1         2        2010       50       0.493      0.931         3           2   \n",
       "\n",
       "   URBAN_CODE RECTYPE  VERSION     RECID    ORIGID  CTFIPS SOURCE  LGURB  \\\n",
       "0       99999       L  2014.05   2002148   2002148     290      H      0   \n",
       "1       99998       L  2014.05  15001104  15001104       7      H      0   \n",
       "\n",
       "   SMURB SIGN1 SIGNT1 SIGNN1 SIGNQ1 SIGN2 SIGNT2 SIGNN2 SIGNQ2 SIGN3 SIGNT3  \\\n",
       "0      0   S65      S     65   None  None   None   None   None  None   None   \n",
       "1      0   S50      S     50   None  None   None   None   None  None   None   \n",
       "\n",
       "  SIGNN3 SIGNQ3             LNAME   MILES      KM  FCLASS  RUCODE  STATUS  \\\n",
       "0   None   None  JAMES DALTON HWY  18.070  29.081       2       1       1   \n",
       "1   None   None     KAUMUALII HWY   0.428   0.689       6       2       1   \n",
       "\n",
       "   NHS  STRAHNET FAC_ID CONN_ID CONN_DES  CONN_MILES           LRSKEY  LRSSEQ  \\\n",
       "0    7         0   None    None     None         0.0  001500000000002       2   \n",
       "1    7         0   None    None     None         0.0  000000005000007      10   \n",
       "\n",
       "    BEGMP    ENDMP STFIPS    ShapeSTLen  \\\n",
       "0  75.236  193.382     02  78290.607852   \n",
       "1  30.895   31.953     15    748.807358   \n",
       "\n",
       "                                            geometry  \n",
       "0  LINESTRING (-150.28945 67.01801, -150.28940 67...  \n",
       "1  LINESTRING (-159.38840 21.96962, -159.38724 21...  "
      ]
     },
     "execution_count": 3,
     "metadata": {},
     "output_type": "execute_result"
    }
   ],
   "source": [
    "usa_roads.head(2)"
   ]
  },
  {
   "cell_type": "code",
   "execution_count": 4,
   "metadata": {},
   "outputs": [
    {
     "data": {
      "text/plain": [
       "1    625117\n",
       "0      1200\n",
       "2        49\n",
       "Name: STATUS, dtype: int64"
      ]
     },
     "execution_count": 4,
     "metadata": {},
     "output_type": "execute_result"
    }
   ],
   "source": [
    "usa_roads.STATUS.value_counts()"
   ]
  },
  {
   "cell_type": "markdown",
   "metadata": {},
   "source": [
    "Note: I may have to remove the roads with status 0 (maybe abandonned) or 2 (maybe in construction)"
   ]
  },
  {
   "cell_type": "markdown",
   "metadata": {},
   "source": [
    "## Set Highway speed for each state"
   ]
  },
  {
   "cell_type": "code",
   "execution_count": 5,
   "metadata": {},
   "outputs": [],
   "source": [
    "state_map_to_STFIPS_table = pd.read_html('https://www.careerinfonet.org/links_st.asp?soccode=&stfips=&id=&nodeid=111')[0].iloc[:-1, :]\n",
    "state_map_to_STFIPS_map = pd.Series(index=state_map_to_STFIPS_table['State Name'],data=state_map_to_STFIPS_table['STFIPS code'].astype('int').values)"
   ]
  },
  {
   "cell_type": "code",
   "execution_count": 6,
   "metadata": {},
   "outputs": [
    {
     "data": {
      "text/plain": [
       "STFIPS code\n",
       "1    113.0\n",
       "2    105.0\n",
       "Name: speed_mph, dtype: float64"
      ]
     },
     "execution_count": 6,
     "metadata": {},
     "output_type": "execute_result"
    }
   ],
   "source": [
    "speed_table = pd.read_html('https://en.wikipedia.org/wiki/Speed_limits_in_the_United_States')[1]\n",
    "speed_table['State or territory'] = speed_table['State or territory'].str.extract('([a-zA-Z\\s]+)')\n",
    "speed_table['STFIPS code'] = speed_table['State or territory'].replace(state_map_to_STFIPS_map).astype('str').str.extract('(\\d+)')\n",
    "speed_table['Freeway (trucks)'] = speed_table['Freeway (trucks)'].str.extract('(\\d+)').fillna('55')\n",
    "speed_map = speed_table.loc[:,['STFIPS code','Freeway (trucks)']].dropna(axis=0).astype('int').rename(columns={\"Freeway (trucks)\": \"speed_mph\"})\n",
    "speed_map.set_index('STFIPS code',drop=True,inplace=True)\n",
    "\n",
    "speed_map_kmh = round(speed_map* 1.609344, 0).squeeze()\n",
    "speed_map_kmh.head(2)"
   ]
  },
  {
   "cell_type": "code",
   "execution_count": 7,
   "metadata": {},
   "outputs": [
    {
     "data": {
      "text/html": [
       "<div>\n",
       "<style scoped>\n",
       "    .dataframe tbody tr th:only-of-type {\n",
       "        vertical-align: middle;\n",
       "    }\n",
       "\n",
       "    .dataframe tbody tr th {\n",
       "        vertical-align: top;\n",
       "    }\n",
       "\n",
       "    .dataframe thead th {\n",
       "        text-align: right;\n",
       "    }\n",
       "</style>\n",
       "<table border=\"1\" class=\"dataframe\">\n",
       "  <thead>\n",
       "    <tr style=\"text-align: right;\">\n",
       "      <th></th>\n",
       "      <th>KM</th>\n",
       "      <th>STFIPS</th>\n",
       "      <th>geometry</th>\n",
       "      <th>speed_kmh</th>\n",
       "      <th>duration</th>\n",
       "      <th>key</th>\n",
       "    </tr>\n",
       "  </thead>\n",
       "  <tbody>\n",
       "    <tr>\n",
       "      <th>0</th>\n",
       "      <td>29.081</td>\n",
       "      <td>02</td>\n",
       "      <td>LINESTRING (-150.28945 67.01801, -150.28940 67...</td>\n",
       "      <td>105.0</td>\n",
       "      <td>0.276962</td>\n",
       "      <td>0</td>\n",
       "    </tr>\n",
       "    <tr>\n",
       "      <th>1</th>\n",
       "      <td>0.689</td>\n",
       "      <td>15</td>\n",
       "      <td>LINESTRING (-159.38840 21.96962, -159.38724 21...</td>\n",
       "      <td>89.0</td>\n",
       "      <td>0.007742</td>\n",
       "      <td>0</td>\n",
       "    </tr>\n",
       "  </tbody>\n",
       "</table>\n",
       "</div>"
      ],
      "text/plain": [
       "       KM STFIPS                                           geometry  \\\n",
       "0  29.081     02  LINESTRING (-150.28945 67.01801, -150.28940 67...   \n",
       "1   0.689     15  LINESTRING (-159.38840 21.96962, -159.38724 21...   \n",
       "\n",
       "   speed_kmh  duration  key  \n",
       "0      105.0  0.276962    0  \n",
       "1       89.0  0.007742    0  "
      ]
     },
     "execution_count": 7,
     "metadata": {},
     "output_type": "execute_result"
    }
   ],
   "source": [
    "usa_roads = usa_roads.drop(usa_roads.columns.difference(['KM','STFIPS','geometry','id']), axis=1)\n",
    "usa_roads['speed_kmh'] = usa_roads['STFIPS'].astype('int').replace(speed_map_kmh)\n",
    "usa_roads['duration'] = pd.eval('usa_roads.KM / usa_roads.speed_kmh')\n",
    "usa_roads['key'] = 0\n",
    "usa_roads = usa_roads.replace(to_replace='None', value=np.nan).dropna(subset=['geometry'])\n",
    "usa_roads.head(2)"
   ]
  },
  {
   "cell_type": "markdown",
   "metadata": {},
   "source": [
    "When taking the entire USA, the `STFIPS` can be used to map the max highway speed"
   ]
  },
  {
   "cell_type": "code",
   "execution_count": null,
   "metadata": {},
   "outputs": [
    {
     "name": "stdout",
     "output_type": "stream",
     "text": [
      "time elapsed: 174.76628518104553\n"
     ]
    }
   ],
   "source": [
    "def add_incident_nodes(df_in): \n",
    "    df = df_in.copy()\n",
    "    start = time.time()     \n",
    "    u_values = [str((round(i.geometry.coords[:][0][0],4),round(i.geometry.coords[:][0][1],4))) for i in df.itertuples()]\n",
    "    v_values = [str((round(i.geometry.coords[:][-1][0],4),round(i.geometry.coords[:][-1][1],4))) for i in df.itertuples()]\n",
    "    \n",
    "    df['u'] = u_values\n",
    "    df['v'] = v_values\n",
    "    \n",
    "    df.drop('geometry',inplace = True, axis=1)\n",
    "    print(f'time elapsed: {time.time()-start}')\n",
    "    return df\n",
    "\n",
    "def add_incident_nodes_fast(df_in): \n",
    "    df = df_in.copy()\n",
    "    start = time.time()\n",
    "    df['geometry'] = df.geometry.astype(str)\n",
    "    df['u'] = df.geometry.str.extract('\\((-?\\d+\\.\\d+)')\n",
    "    df['v'] = df.geometry.str.extract('(-?\\d+\\.\\d+)\\)$')\n",
    "    \n",
    "    df.drop('geometry',inplace = True, axis=1)\n",
    "    print(f'time elapsed: {time.time()-start}')\n",
    "    return df\n",
    "       \n",
    "\n",
    "usa_roads_slow = add_incident_nodes(usa_roads)\n",
    "\n",
    "\n",
    "usa_roads_fast = add_incident_nodes_fast(usa_roads)\n"
   ]
  },
  {
   "cell_type": "code",
   "execution_count": null,
   "metadata": {},
   "outputs": [],
   "source": [
    "usa_roads_fast.tail()"
   ]
  },
  {
   "cell_type": "code",
   "execution_count": null,
   "metadata": {},
   "outputs": [],
   "source": [
    "usa_roads = usa_roads_slow"
   ]
  },
  {
   "cell_type": "code",
   "execution_count": null,
   "metadata": {},
   "outputs": [],
   "source": [
    "usa_roads['length'] = usa_roads['KM']*1000\n",
    "usa_roads['CO2_eq_kg'] = pd.eval('usa_roads.length /1000 * 0.080513')"
   ]
  },
  {
   "cell_type": "code",
   "execution_count": null,
   "metadata": {},
   "outputs": [],
   "source": [
    "def gen_nodes_gdfs(df):\n",
    "    start = time.time()\n",
    "    nodes_df = gpd.GeoDataFrame(columns=['nodes_pos','tag','x','y','osmid','geometry'],crs=\"EPSG:4326\")\n",
    "    \n",
    "    nodes_df['nodes_pos'] = pd.unique(df[['u', 'v']].values.ravel('K'))\n",
    "    \n",
    "    pattern = re.compile(r'(-?\\d+.\\d+)')\n",
    "    \n",
    "    coords = nodes_df['nodes_pos'].str.extractall(pattern).unstack(level=-1)\n",
    "    coords.columns = coords.columns.droplevel()\n",
    "    coords.rename(columns = {0:'x',1:'y'},inplace=True)\n",
    "    nodes_df['x'] = coords.x.astype(float)\n",
    "    nodes_df['y'] = coords.y.astype(float)\n",
    "    nodes_df['osmid'] = nodes_df.nodes_pos\n",
    "    nodes_df['geometry'] = [Point(x,y) for x,y in zip(nodes_df.x,nodes_df.y)]\n",
    "    \n",
    "    nodes_df['tag'] = 'road'\n",
    "    nodes_df['new_idx'] = range(1000000000,1000000000 + len(nodes_df))\n",
    "    \n",
    "    print(f'time elapsed: {time.time()-start}')\n",
    "    nodes_df.set_index('nodes_pos', drop=True, inplace=True)\n",
    "    return nodes_df"
   ]
  },
  {
   "cell_type": "code",
   "execution_count": null,
   "metadata": {},
   "outputs": [],
   "source": [
    "nodes_gdfs = gen_nodes_gdfs(usa_roads)"
   ]
  },
  {
   "cell_type": "code",
   "execution_count": null,
   "metadata": {},
   "outputs": [],
   "source": [
    "nodes_gdfs.head()"
   ]
  },
  {
   "cell_type": "code",
   "execution_count": null,
   "metadata": {},
   "outputs": [],
   "source": [
    "nodes_gdfs.info()"
   ]
  },
  {
   "cell_type": "code",
   "execution_count": null,
   "metadata": {},
   "outputs": [],
   "source": [
    "map_ids = nodes_gdfs.loc[:,'new_idx'].squeeze()"
   ]
  },
  {
   "cell_type": "code",
   "execution_count": null,
   "metadata": {},
   "outputs": [],
   "source": [
    "G = ox.graph_from_gdfs(nodes_gdfs, usa_roads)\n",
    "nx.relabel_nodes(G, dict(map_ids), copy=False)"
   ]
  },
  {
   "cell_type": "code",
   "execution_count": null,
   "metadata": {},
   "outputs": [],
   "source": [
    "def get_edge_attribute(G, node=0):\n",
    "    i,j = list(G.edges())[node]\n",
    "    print(f'node_id is {i},{j}')\n",
    "    return G.edges[i,j,0]\n",
    "get_edge_attribute(G)"
   ]
  },
  {
   "cell_type": "code",
   "execution_count": null,
   "metadata": {},
   "outputs": [],
   "source": [
    "G_s = ox.simplify_graph(G)"
   ]
  },
  {
   "cell_type": "code",
   "execution_count": null,
   "metadata": {},
   "outputs": [],
   "source": [
    "fig, ax = ox.plot_graph(G,node_color='blue',bgcolor='white',node_alpha=0.5)"
   ]
  },
  {
   "cell_type": "code",
   "execution_count": null,
   "metadata": {},
   "outputs": [],
   "source": [
    "G_undirected = G.to_undirected()\n",
    "G_undirected_s = G_s.to_undirected()\n",
    "\n",
    "component_size = sorted([len(component) for component in nx.connected_components(G_undirected)], reverse=True)\n",
    "fig, ax = plt.subplots(figsize=(12,3))\n",
    "plt.bar(range(len(component_size)),component_size)\n",
    "plt.plot(range(len(component_size)),component_size,color='red',alpha=0.5)\n",
    "plt.title('connected components size')"
   ]
  },
  {
   "cell_type": "code",
   "execution_count": null,
   "metadata": {},
   "outputs": [],
   "source": [
    "largest_cc_nodes = max(nx.connected_components(G_undirected), key=len)\n",
    "largest_cc = G_undirected.subgraph(largest_cc_nodes).copy()\n",
    "\n",
    "largest_cc_nodes_s = max(nx.connected_components(G_undirected_s), key=len)\n",
    "largest_cc_s = G_undirected_s.subgraph(largest_cc_nodes_s).copy()"
   ]
  },
  {
   "cell_type": "markdown",
   "metadata": {},
   "source": [
    "It should be noted that by simplifying the graph, the edges attributes where added as list elements. \n",
    "For the duration attribute, theses element will have to be summed later on."
   ]
  },
  {
   "cell_type": "code",
   "execution_count": null,
   "metadata": {},
   "outputs": [],
   "source": [
    "nodes, edges = ox.graph_to_gdfs(G)"
   ]
  },
  {
   "cell_type": "code",
   "execution_count": null,
   "metadata": {},
   "outputs": [],
   "source": [
    "edges.head(5)"
   ]
  },
  {
   "cell_type": "code",
   "execution_count": null,
   "metadata": {},
   "outputs": [],
   "source": []
  }
 ],
 "metadata": {
  "kernelspec": {
   "display_name": "Python 3",
   "language": "python",
   "name": "python3"
  },
  "language_info": {
   "codemirror_mode": {
    "name": "ipython",
    "version": 3
   },
   "file_extension": ".py",
   "mimetype": "text/x-python",
   "name": "python",
   "nbconvert_exporter": "python",
   "pygments_lexer": "ipython3",
   "version": "3.7.6"
  }
 },
 "nbformat": 4,
 "nbformat_minor": 4
}
