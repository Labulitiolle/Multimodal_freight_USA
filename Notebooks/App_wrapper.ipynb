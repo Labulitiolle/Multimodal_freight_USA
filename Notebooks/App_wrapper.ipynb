{
 "cells": [
  {
   "cell_type": "markdown",
   "metadata": {},
   "source": [
    "# App wrapper\n",
    "This notebook is used to compare hte performance (price and duration predictions) of this basic model with real market values."
   ]
  },
  {
   "cell_type": "code",
   "execution_count": 2,
   "metadata": {},
   "outputs": [],
   "source": [
    "import time\n",
    "import osmnx as ox\n",
    "import pandas as pd\n",
    "\n",
    "\n",
    "import sys\n",
    "sys.path.append('../../Multimodal_freight_USA/')\n",
    "from mfreight.Multimodal.graph_utils import MultimodalNet\n",
    "from mfreight.utils import build_graph\n",
    "\n",
    "departure_x, departure_y = (30.439440, -85.057166)\n",
    "arrival_x, arrival_y = (25.382380, -80.475159)"
   ]
  },
  {
   "cell_type": "code",
   "execution_count": 3,
   "metadata": {},
   "outputs": [],
   "source": [
    "departure = (departure_x, departure_y)\n",
    "arrival = (arrival_x, arrival_y)"
   ]
  },
  {
   "cell_type": "code",
   "execution_count": 4,
   "metadata": {},
   "outputs": [],
   "source": [
    "Net = MultimodalNet(path_u= \"../../Multimodal_freight_USA/mfreight/multimodal/data/multimodal_G_tot_u_w_price.plk\")"
   ]
  },
  {
   "cell_type": "code",
   "execution_count": 5,
   "metadata": {},
   "outputs": [],
   "source": [
    "def app_result(departure, arrival, Net, feature, operators= [\"BNSF\", \"UP\", \"CN\", \"CPRS\", \"KCS\", \"CSXT\", \"NS\"]):\n",
    "    price_target = Net.get_price_target(departure, arrival)\n",
    "\n",
    "    removed_edges, removed_nodes = Net.chose_operator_in_graph(operators)\n",
    "\n",
    "    path = Net.get_shortest_path(\n",
    "        departure,\n",
    "        arrival,\n",
    "        target_weight=feature,\n",
    "        price_target=price_target\n",
    "    )\n",
    "\n",
    "    scanned_route, path_rail_edges, stop_list = Net.scan_route(\n",
    "        Net.route_detail_from_graph(\n",
    "            path, show_entire_route=True, price_target=price_target\n",
    "        )\n",
    "    )\n",
    "\n",
    "    route_details = Net.route_detail_from_graph(path, price_target=price_target)\n",
    "\n",
    "    chosen_mode = Net.chosen_path_mode(route_details)\n",
    "\n",
    "    route_specs = Net.compute_all_paths(\n",
    "        departure=departure,\n",
    "        arrival=arrival,\n",
    "        price_target=price_target,\n",
    "    )\n",
    "\n",
    "\n",
    "    build_graph.add_nodes_from_df(Net.G_multimodal_u, removed_nodes)\n",
    "    build_graph.add_edges_from_df(Net.G_multimodal_u, removed_edges)\n",
    "    return price_target, route_specs"
   ]
  },
  {
   "cell_type": "code",
   "execution_count": 5,
   "metadata": {},
   "outputs": [],
   "source": [
    "price_target, route_specs = app_result(departure, arrival, Net, feature='price')"
   ]
  },
  {
   "cell_type": "code",
   "execution_count": 6,
   "metadata": {},
   "outputs": [
    {
     "data": {
      "text/html": [
       "<div>\n",
       "<style scoped>\n",
       "    .dataframe tbody tr th:only-of-type {\n",
       "        vertical-align: middle;\n",
       "    }\n",
       "\n",
       "    .dataframe tbody tr th {\n",
       "        vertical-align: top;\n",
       "    }\n",
       "\n",
       "    .dataframe thead th {\n",
       "        text-align: right;\n",
       "    }\n",
       "</style>\n",
       "<table border=\"1\" class=\"dataframe\">\n",
       "  <thead>\n",
       "    <tr style=\"text-align: right;\">\n",
       "      <th></th>\n",
       "      <th>CO2_eq_kg</th>\n",
       "      <th>duration_h</th>\n",
       "      <th>price</th>\n",
       "    </tr>\n",
       "  </thead>\n",
       "  <tbody>\n",
       "    <tr>\n",
       "      <th>Multimodal</th>\n",
       "      <td>16.8</td>\n",
       "      <td>44.4</td>\n",
       "      <td>1317.9</td>\n",
       "    </tr>\n",
       "    <tr>\n",
       "      <th>Truckload</th>\n",
       "      <td>26.3</td>\n",
       "      <td>7.5</td>\n",
       "      <td>1042.6</td>\n",
       "    </tr>\n",
       "  </tbody>\n",
       "</table>\n",
       "</div>"
      ],
      "text/plain": [
       "            CO2_eq_kg  duration_h   price\n",
       "Multimodal       16.8        44.4  1317.9\n",
       "Truckload        26.3         7.5  1042.6"
      ]
     },
     "execution_count": 6,
     "metadata": {},
     "output_type": "execute_result"
    }
   ],
   "source": [
    "route_specs"
   ]
  },
  {
   "cell_type": "code",
   "execution_count": 7,
   "metadata": {},
   "outputs": [
    {
     "data": {
      "text/plain": [
       "'range1'"
      ]
     },
     "execution_count": 7,
     "metadata": {},
     "output_type": "execute_result"
    }
   ],
   "source": [
    "price_target"
   ]
  },
  {
   "cell_type": "code",
   "execution_count": 8,
   "metadata": {},
   "outputs": [],
   "source": [
    "# Geographical\n",
    "departures =[(34.186234, -118.599367),\n",
    "(33.751475, -84.468668),\n",
    "(43.097041, -70.801162),\n",
    "(34.935067, -89.991454),\n",
    "(25.821497, -80.312094),\n",
    "(41.887051, -87.693805),\n",
    "(25.821497, -80.312094),\n",
    "(47.457887, -122.260722),\n",
    "(45.558748, -122.650805),\n",
    "(39.644398, -105.006873)]\n",
    "\n",
    "arrivals = [(33.751475, -84.468668),\n",
    "(34.186234, -118.599367),\n",
    "(34.935067, -89.991454),\n",
    "(43.097041, -70.801162),\n",
    "(41.887051, -87.693805),\n",
    "(25.821497, -80.312094),\n",
    "(47.457887, -122.260722),\n",
    "(25.821497, -80.312094),\n",
    "(39.644398, -105.006873),\n",
    "(45.558748, -122.650805)]"
   ]
  },
  {
   "cell_type": "code",
   "execution_count": 16,
   "metadata": {},
   "outputs": [
    {
     "name": "stdout",
     "output_type": "stream",
     "text": [
      "('CA', 'GA')\n",
      "('GA', 'CA')\n",
      "range2\n",
      "range2\n",
      "range2\n",
      "range2\n",
      "('FL', 'IL')\n",
      "('IL', 'FL')\n",
      "range5\n",
      "range5\n"
     ]
    }
   ],
   "source": [
    "route_specs_df = pd.DataFrame()\n",
    "import time\n",
    "for departure, arrival in zip(departures, arrivals):\n",
    "    time.sleep(5)\n",
    "    price_target, route_specs = app_result(departure, arrival, Net, feature='CO2_eq_kg')\n",
    "                \n",
    "    route_specs_df = route_specs_df.append({'duration':route_specs.loc['Multimodal', 'duration_h'],\n",
    "                                            'price':route_specs.loc['Multimodal', 'price']},\n",
    "                                           ignore_index=True)\n",
    "    print(price_target)"
   ]
  },
  {
   "cell_type": "code",
   "execution_count": 14,
   "metadata": {},
   "outputs": [
    {
     "data": {
      "text/plain": [
       "0    3637.6\n",
       "1    2274.3\n",
       "2    2292.9\n",
       "3    2292.9\n",
       "4    2458.6\n",
       "5    2458.6\n",
       "6    1334.0\n",
       "7    2504.5\n",
       "8    3921.8\n",
       "9    3921.8\n",
       "Name: price, dtype: float64"
      ]
     },
     "execution_count": 14,
     "metadata": {},
     "output_type": "execute_result"
    }
   ],
   "source": [
    "route_specs_df.price\n"
   ]
  },
  {
   "cell_type": "code",
   "execution_count": 18,
   "metadata": {},
   "outputs": [],
   "source": [
    "departures = [(41.351553, -82.067394),\n",
    "(41.182853, -83.728211),\n",
    "(25.823094, -80.306578),\n",
    "(25.823094, -80.306578),\n",
    "(25.823094, -80.306578)]\n",
    "\n",
    "arrivals = [(27.938252, -81.698119),\n",
    "(27.938252, -81.698120),\n",
    "(40.800558, -74.024744),\n",
    "(40.757823, -73.780038),\n",
    "(41.057003, -74.750988)]"
   ]
  },
  {
   "cell_type": "code",
   "execution_count": 19,
   "metadata": {},
   "outputs": [
    {
     "name": "stdout",
     "output_type": "stream",
     "text": [
      "range2\n",
      "range2\n",
      "('FL', 'NJ')\n",
      "range2\n",
      "('FL', 'NJ')\n"
     ]
    }
   ],
   "source": [
    "route_specs_df = pd.DataFrame()\n",
    "import time\n",
    "for departure, arrival in zip(departures, arrivals):\n",
    "    time.sleep(5)\n",
    "    price_target, route_specs = app_result(departure, arrival, Net, feature='CO2_eq_kg')\n",
    "                \n",
    "    route_specs_df = route_specs_df.append({'duration':route_specs.loc['Multimodal', 'duration_h'],\n",
    "                                            'price':route_specs.loc['Multimodal', 'price']},\n",
    "                                           ignore_index=True)\n",
    "    print(price_target)"
   ]
  },
  {
   "cell_type": "code",
   "execution_count": 22,
   "metadata": {},
   "outputs": [
    {
     "data": {
      "text/plain": [
       "0     97.9\n",
       "1     93.8\n",
       "2    104.7\n",
       "3    107.0\n",
       "4    107.1\n",
       "Name: duration, dtype: float64"
      ]
     },
     "execution_count": 22,
     "metadata": {},
     "output_type": "execute_result"
    }
   ],
   "source": [
    "route_specs_df.duration"
   ]
  },
  {
   "cell_type": "code",
   "execution_count": 23,
   "metadata": {},
   "outputs": [
    {
     "data": {
      "text/plain": [
       "0    2143.1\n",
       "1    1930.2\n",
       "2    2085.6\n",
       "3    2332.2\n",
       "4    2145.1\n",
       "Name: price, dtype: float64"
      ]
     },
     "execution_count": 23,
     "metadata": {},
     "output_type": "execute_result"
    }
   ],
   "source": [
    "route_specs_df.price"
   ]
  }
 ],
 "metadata": {
  "kernelspec": {
   "display_name": "Multimodal_freight_USA",
   "language": "python",
   "name": "multimodal_freight_usa"
  },
  "language_info": {
   "codemirror_mode": {
    "name": "ipython",
    "version": 3
   },
   "file_extension": ".py",
   "mimetype": "text/x-python",
   "name": "python",
   "nbconvert_exporter": "python",
   "pygments_lexer": "ipython3",
   "version": "3.8.6"
  }
 },
 "nbformat": 4,
 "nbformat_minor": 4
}
