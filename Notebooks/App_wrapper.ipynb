{
 "cells": [
  {
   "cell_type": "markdown",
   "metadata": {},
   "source": [
    "# App wrapper"
   ]
  },
  {
   "cell_type": "code",
   "execution_count": 1,
   "metadata": {},
   "outputs": [],
   "source": [
    "import time\n",
    "import osmnx as ox\n",
    "import pandas as pd\n",
    "\n",
    "\n",
    "import sys\n",
    "sys.path.append('../../Multimodal_freight_USA/')\n",
    "from mfreight.Multimodal.graph_utils import MultimodalNet\n",
    "from mfreight.utils import build_graph\n",
    "\n",
    "departure_x, departure_y = (30.439440, -85.057166)\n",
    "arrival_x, arrival_y = (25.382380, -80.475159)"
   ]
  },
  {
   "cell_type": "code",
   "execution_count": 2,
   "metadata": {},
   "outputs": [],
   "source": [
    "departure = (departure_x, departure_y)\n",
    "arrival = (arrival_x, arrival_y)"
   ]
  },
  {
   "cell_type": "code",
   "execution_count": 3,
   "metadata": {},
   "outputs": [],
   "source": [
    "Net = MultimodalNet(path_u= \"../../Multimodal_freight_USA/mfreight/multimodal/data/multimodal_G_tot_u_w_price.plk\")"
   ]
  },
  {
   "cell_type": "code",
   "execution_count": 4,
   "metadata": {},
   "outputs": [],
   "source": [
    "def app_result(departure, arrival, Net, feature, operators= [\"BNSF\", \"UP\", \"CN\", \"CPRS\", \"KCS\", \"CSXT\", \"NS\"]):\n",
    "    price_target = Net.get_price_target(departure, arrival)\n",
    "\n",
    "    removed_edges, removed_nodes = Net.chose_operator_in_graph(operators)\n",
    "\n",
    "    path = Net.get_shortest_path(\n",
    "        departure,\n",
    "        arrival,\n",
    "        target_weight=feature,\n",
    "        price_target=price_target\n",
    "    )\n",
    "\n",
    "    scanned_route, path_rail_edges, stop_list = Net.scan_route(\n",
    "        Net.route_detail_from_graph(\n",
    "            path, show_entire_route=True, price_target=price_target\n",
    "        )\n",
    "    )\n",
    "\n",
    "    route_details = Net.route_detail_from_graph(path, price_target=price_target)\n",
    "\n",
    "    chosen_mode = Net.chosen_path_mode(route_details)\n",
    "\n",
    "    route_specs = Net.compute_all_paths(\n",
    "        departure=departure,\n",
    "        arrival=arrival,\n",
    "        price_target=price_target,\n",
    "    )\n",
    "\n",
    "\n",
    "    build_graph.add_nodes_from_df(Net.G_multimodal_u, removed_nodes)\n",
    "    build_graph.add_edges_from_df(Net.G_multimodal_u, removed_edges)\n",
    "    return price_target, route_specs"
   ]
  },
  {
   "cell_type": "code",
   "execution_count": 5,
   "metadata": {},
   "outputs": [],
   "source": [
    "price_target, route_specs = app_result(departure, arrival, Net, feature='price')"
   ]
  },
  {
   "cell_type": "code",
   "execution_count": 6,
   "metadata": {},
   "outputs": [
    {
     "data": {
      "text/html": [
       "<div>\n",
       "<style scoped>\n",
       "    .dataframe tbody tr th:only-of-type {\n",
       "        vertical-align: middle;\n",
       "    }\n",
       "\n",
       "    .dataframe tbody tr th {\n",
       "        vertical-align: top;\n",
       "    }\n",
       "\n",
       "    .dataframe thead th {\n",
       "        text-align: right;\n",
       "    }\n",
       "</style>\n",
       "<table border=\"1\" class=\"dataframe\">\n",
       "  <thead>\n",
       "    <tr style=\"text-align: right;\">\n",
       "      <th></th>\n",
       "      <th>CO2_eq_kg</th>\n",
       "      <th>duration_h</th>\n",
       "      <th>price</th>\n",
       "    </tr>\n",
       "  </thead>\n",
       "  <tbody>\n",
       "    <tr>\n",
       "      <th>Multimodal</th>\n",
       "      <td>16.8</td>\n",
       "      <td>44.4</td>\n",
       "      <td>1317.9</td>\n",
       "    </tr>\n",
       "    <tr>\n",
       "      <th>Truckload</th>\n",
       "      <td>26.3</td>\n",
       "      <td>7.5</td>\n",
       "      <td>1042.6</td>\n",
       "    </tr>\n",
       "  </tbody>\n",
       "</table>\n",
       "</div>"
      ],
      "text/plain": [
       "            CO2_eq_kg  duration_h   price\n",
       "Multimodal       16.8        44.4  1317.9\n",
       "Truckload        26.3         7.5  1042.6"
      ]
     },
     "execution_count": 6,
     "metadata": {},
     "output_type": "execute_result"
    }
   ],
   "source": [
    "route_specs"
   ]
  },
  {
   "cell_type": "code",
   "execution_count": 7,
   "metadata": {},
   "outputs": [
    {
     "data": {
      "text/plain": [
       "'range1'"
      ]
     },
     "execution_count": 7,
     "metadata": {},
     "output_type": "execute_result"
    }
   ],
   "source": [
    "price_target"
   ]
  },
  {
   "cell_type": "code",
   "execution_count": 8,
   "metadata": {},
   "outputs": [],
   "source": [
    "# Geographical\n",
    "departures =[(34.186234, -118.599367),\n",
    "(33.751475, -84.468668),\n",
    "(43.097041, -70.801162),\n",
    "(34.935067, -89.991454),\n",
    "(25.821497, -80.312094),\n",
    "(41.887051, -87.693805),\n",
    "(25.821497, -80.312094),\n",
    "(47.457887, -122.260722),\n",
    "(45.558748, -122.650805),\n",
    "(39.644398, -105.006873)]\n",
    "\n",
    "arrivals = [(33.751475, -84.468668),\n",
    "(34.186234, -118.599367),\n",
    "(34.935067, -89.991454),\n",
    "(43.097041, -70.801162),\n",
    "(41.887051, -87.693805),\n",
    "(25.821497, -80.312094),\n",
    "(47.457887, -122.260722),\n",
    "(25.821497, -80.312094),\n",
    "(39.644398, -105.006873),\n",
    "(45.558748, -122.650805)]"
   ]
  },
  {
   "cell_type": "code",
   "execution_count": 16,
   "metadata": {},
   "outputs": [
    {
     "name": "stdout",
     "output_type": "stream",
     "text": [
      "('CA', 'GA')\n",
      "('GA', 'CA')\n",
      "range2\n",
      "range2\n",
      "range2\n",
      "range2\n",
      "('FL', 'IL')\n",
      "('IL', 'FL')\n",
      "range5\n",
      "range5\n"
     ]
    }
   ],
   "source": [
    "route_specs_df = pd.DataFrame()\n",
    "import time\n",
    "for departure, arrival in zip(departures, arrivals):\n",
    "    time.sleep(5)\n",
    "    price_target, route_specs = app_result(departure, arrival, Net, feature='CO2_eq_kg')\n",
    "                \n",
    "    route_specs_df = route_specs_df.append({'duration':route_specs.loc['Multimodal', 'duration_h'],\n",
    "                                            'price':route_specs.loc['Multimodal', 'price']},\n",
    "                                           ignore_index=True)\n",
    "    print(price_target)"
   ]
  },
  {
   "cell_type": "code",
   "execution_count": 14,
   "metadata": {},
   "outputs": [
    {
     "data": {
      "text/plain": [
       "0    3637.6\n",
       "1    2274.3\n",
       "2    2292.9\n",
       "3    2292.9\n",
       "4    2458.6\n",
       "5    2458.6\n",
       "6    1334.0\n",
       "7    2504.5\n",
       "8    3921.8\n",
       "9    3921.8\n",
       "Name: price, dtype: float64"
      ]
     },
     "execution_count": 14,
     "metadata": {},
     "output_type": "execute_result"
    }
   ],
   "source": [
    "route_specs_df.price\n"
   ]
  },
  {
   "cell_type": "code",
   "execution_count": 18,
   "metadata": {},
   "outputs": [],
   "source": [
    "departures = [(41.351553, -82.067394),\n",
    "(41.182853, -83.728211),\n",
    "(25.823094, -80.306578),\n",
    "(25.823094, -80.306578),\n",
    "(25.823094, -80.306578)]\n",
    "\n",
    "arrivals = [(27.938252, -81.698119),\n",
    "(27.938252, -81.698120),\n",
    "(40.800558, -74.024744),\n",
    "(40.757823, -73.780038),\n",
    "(41.057003, -74.750988)]"
   ]
  },
  {
   "cell_type": "code",
   "execution_count": 19,
   "metadata": {},
   "outputs": [
    {
     "name": "stdout",
     "output_type": "stream",
     "text": [
      "range2\n",
      "range2\n",
      "('FL', 'NJ')\n",
      "range2\n",
      "('FL', 'NJ')\n"
     ]
    }
   ],
   "source": [
    "route_specs_df = pd.DataFrame()\n",
    "import time\n",
    "for departure, arrival in zip(departures, arrivals):\n",
    "    time.sleep(5)\n",
    "    price_target, route_specs = app_result(departure, arrival, Net, feature='CO2_eq_kg')\n",
    "                \n",
    "    route_specs_df = route_specs_df.append({'duration':route_specs.loc['Multimodal', 'duration_h'],\n",
    "                                            'price':route_specs.loc['Multimodal', 'price']},\n",
    "                                           ignore_index=True)\n",
    "    print(price_target)"
   ]
  },
  {
   "cell_type": "code",
   "execution_count": 22,
   "metadata": {},
   "outputs": [
    {
     "data": {
      "text/plain": [
       "0     97.9\n",
       "1     93.8\n",
       "2    104.7\n",
       "3    107.0\n",
       "4    107.1\n",
       "Name: duration, dtype: float64"
      ]
     },
     "execution_count": 22,
     "metadata": {},
     "output_type": "execute_result"
    }
   ],
   "source": [
    "route_specs_df.duration"
   ]
  },
  {
   "cell_type": "code",
   "execution_count": 23,
   "metadata": {},
   "outputs": [
    {
     "data": {
      "text/plain": [
       "0    2143.1\n",
       "1    1930.2\n",
       "2    2085.6\n",
       "3    2332.2\n",
       "4    2145.1\n",
       "Name: price, dtype: float64"
      ]
     },
     "execution_count": 23,
     "metadata": {},
     "output_type": "execute_result"
    }
   ],
   "source": [
    "route_specs_df.price"
   ]
  },
  {
   "cell_type": "code",
   "execution_count": null,
   "metadata": {},
   "outputs": [],
   "source": []
  },
  {
   "cell_type": "code",
   "execution_count": 17,
   "metadata": {},
   "outputs": [],
   "source": [
    "import geopandas as gpd"
   ]
  },
  {
   "cell_type": "code",
   "execution_count": 18,
   "metadata": {},
   "outputs": [],
   "source": [
    "df = gpd.read_file('../../Multimodal_freight_USA/mfreight/Rail/rail_data/Intermodal stations/Intermodal_Freight_Facilities_RailTOFCCOFC.shp')"
   ]
  },
  {
   "cell_type": "code",
   "execution_count": 19,
   "metadata": {},
   "outputs": [
    {
     "data": {
      "text/html": [
       "<div>\n",
       "<style scoped>\n",
       "    .dataframe tbody tr th:only-of-type {\n",
       "        vertical-align: middle;\n",
       "    }\n",
       "\n",
       "    .dataframe tbody tr th {\n",
       "        vertical-align: top;\n",
       "    }\n",
       "\n",
       "    .dataframe thead th {\n",
       "        text-align: right;\n",
       "    }\n",
       "</style>\n",
       "<table border=\"1\" class=\"dataframe\">\n",
       "  <thead>\n",
       "    <tr style=\"text-align: right;\">\n",
       "      <th></th>\n",
       "      <th>OBJECTID</th>\n",
       "      <th>TERMINAL</th>\n",
       "      <th>TERM_ADDRE</th>\n",
       "      <th>CITY</th>\n",
       "      <th>STATE</th>\n",
       "      <th>ZIP_CODE</th>\n",
       "      <th>PORT</th>\n",
       "      <th>DATE</th>\n",
       "      <th>RAIL_COMPA</th>\n",
       "      <th>EQUIPMENT</th>\n",
       "      <th>ACCESS_ROA</th>\n",
       "      <th>SPLC</th>\n",
       "      <th>LAT</th>\n",
       "      <th>LON</th>\n",
       "      <th>geometry</th>\n",
       "    </tr>\n",
       "  </thead>\n",
       "  <tbody>\n",
       "    <tr>\n",
       "      <th>0</th>\n",
       "      <td>1</td>\n",
       "      <td>Albany, NY - Mechanicville</td>\n",
       "      <td>50 Route 67</td>\n",
       "      <td>Mechanicville</td>\n",
       "      <td>NY</td>\n",
       "      <td>12118</td>\n",
       "      <td>None</td>\n",
       "      <td>2018-08-01</td>\n",
       "      <td>NS</td>\n",
       "      <td>COFC</td>\n",
       "      <td>None</td>\n",
       "      <td>171760</td>\n",
       "      <td>42.914715</td>\n",
       "      <td>-73.709533</td>\n",
       "      <td>POINT (-73.70953 42.91471)</td>\n",
       "    </tr>\n",
       "    <tr>\n",
       "      <th>1</th>\n",
       "      <td>2</td>\n",
       "      <td>Albuquerque, NM</td>\n",
       "      <td>100 Woodward Road S.E.</td>\n",
       "      <td>Albuquerque</td>\n",
       "      <td>NM</td>\n",
       "      <td>87102</td>\n",
       "      <td>None</td>\n",
       "      <td>2018-09-01</td>\n",
       "      <td>BNSF</td>\n",
       "      <td>TOFC/COFC</td>\n",
       "      <td>None</td>\n",
       "      <td>774900</td>\n",
       "      <td>35.047580</td>\n",
       "      <td>-106.653344</td>\n",
       "      <td>POINT (-106.65334 35.04758)</td>\n",
       "    </tr>\n",
       "    <tr>\n",
       "      <th>2</th>\n",
       "      <td>3</td>\n",
       "      <td>Alliance, TX</td>\n",
       "      <td>1111 Intermodal Parkway</td>\n",
       "      <td>Haslet</td>\n",
       "      <td>TX</td>\n",
       "      <td>76052</td>\n",
       "      <td>None</td>\n",
       "      <td>2018-09-02</td>\n",
       "      <td>BNSF</td>\n",
       "      <td>TOFC/COFC</td>\n",
       "      <td>None</td>\n",
       "      <td>668100</td>\n",
       "      <td>32.999881</td>\n",
       "      <td>-97.347026</td>\n",
       "      <td>POINT (-97.34703 32.99988)</td>\n",
       "    </tr>\n",
       "    <tr>\n",
       "      <th>3</th>\n",
       "      <td>4</td>\n",
       "      <td>Arcadia, WI</td>\n",
       "      <td>One Ashley Way</td>\n",
       "      <td>Arcadia</td>\n",
       "      <td>WI</td>\n",
       "      <td>54612</td>\n",
       "      <td>None</td>\n",
       "      <td>2018-09-01</td>\n",
       "      <td>CN</td>\n",
       "      <td>TOFC/COFC</td>\n",
       "      <td>South Washington St.</td>\n",
       "      <td>328754</td>\n",
       "      <td>44.251243</td>\n",
       "      <td>-91.509663</td>\n",
       "      <td>POINT (-91.50966 44.25124)</td>\n",
       "    </tr>\n",
       "    <tr>\n",
       "      <th>4</th>\n",
       "      <td>5</td>\n",
       "      <td>Atlanta, GA - Austell</td>\n",
       "      <td>6000 Dr. Luke Glenn Garrett, Jr. Memorial Highway</td>\n",
       "      <td>Austell</td>\n",
       "      <td>GA</td>\n",
       "      <td>30106</td>\n",
       "      <td>None</td>\n",
       "      <td>2018-08-01</td>\n",
       "      <td>NS</td>\n",
       "      <td>TOFC/COFC</td>\n",
       "      <td>None</td>\n",
       "      <td>456496</td>\n",
       "      <td>33.825798</td>\n",
       "      <td>-84.655069</td>\n",
       "      <td>POINT (-84.65507 33.82580)</td>\n",
       "    </tr>\n",
       "    <tr>\n",
       "      <th>...</th>\n",
       "      <td>...</td>\n",
       "      <td>...</td>\n",
       "      <td>...</td>\n",
       "      <td>...</td>\n",
       "      <td>...</td>\n",
       "      <td>...</td>\n",
       "      <td>...</td>\n",
       "      <td>...</td>\n",
       "      <td>...</td>\n",
       "      <td>...</td>\n",
       "      <td>...</td>\n",
       "      <td>...</td>\n",
       "      <td>...</td>\n",
       "      <td>...</td>\n",
       "      <td>...</td>\n",
       "    </tr>\n",
       "    <tr>\n",
       "      <th>176</th>\n",
       "      <td>177</td>\n",
       "      <td>Wilmington, CA - TraPac Intermodal Container T...</td>\n",
       "      <td>630 West Harry Bridges Boulevard</td>\n",
       "      <td>Wilmington</td>\n",
       "      <td>CA</td>\n",
       "      <td>90744</td>\n",
       "      <td>Port of Los Angeles</td>\n",
       "      <td>2018-12-07</td>\n",
       "      <td>PHL</td>\n",
       "      <td>TOFC/COFC</td>\n",
       "      <td>None</td>\n",
       "      <td>883257</td>\n",
       "      <td>33.770320</td>\n",
       "      <td>-118.273289</td>\n",
       "      <td>POINT (-118.27329 33.77032)</td>\n",
       "    </tr>\n",
       "    <tr>\n",
       "      <th>177</th>\n",
       "      <td>178</td>\n",
       "      <td>Wilmington, NC - Container Terminal</td>\n",
       "      <td>1 Shipyard Boulevard</td>\n",
       "      <td>Wilmington</td>\n",
       "      <td>NC</td>\n",
       "      <td>28401</td>\n",
       "      <td>Port of Wilmington</td>\n",
       "      <td>2018-09-11</td>\n",
       "      <td>CSX</td>\n",
       "      <td>COFC</td>\n",
       "      <td>None</td>\n",
       "      <td>409160</td>\n",
       "      <td>34.191224</td>\n",
       "      <td>-77.952419</td>\n",
       "      <td>POINT (-77.95242 34.19122)</td>\n",
       "    </tr>\n",
       "    <tr>\n",
       "      <th>178</th>\n",
       "      <td>179</td>\n",
       "      <td>Winter Haven, FL - Central Florida Intermodal ...</td>\n",
       "      <td>3935 Intermodal Drive</td>\n",
       "      <td>Winter Haven</td>\n",
       "      <td>FL</td>\n",
       "      <td>33884</td>\n",
       "      <td>None</td>\n",
       "      <td>2018-09-11</td>\n",
       "      <td>CSX, EVWR</td>\n",
       "      <td>COFC</td>\n",
       "      <td>None</td>\n",
       "      <td>497540</td>\n",
       "      <td>27.939953</td>\n",
       "      <td>-81.693226</td>\n",
       "      <td>POINT (-81.69323 27.93995)</td>\n",
       "    </tr>\n",
       "    <tr>\n",
       "      <th>179</th>\n",
       "      <td>180</td>\n",
       "      <td>Worcester, MA</td>\n",
       "      <td>165 Grafton Street</td>\n",
       "      <td>Worcester</td>\n",
       "      <td>MA</td>\n",
       "      <td>01604</td>\n",
       "      <td>None</td>\n",
       "      <td>2018-09-11</td>\n",
       "      <td>CSX</td>\n",
       "      <td>TOFC/COFC</td>\n",
       "      <td>None</td>\n",
       "      <td>145460</td>\n",
       "      <td>42.259951</td>\n",
       "      <td>-71.789244</td>\n",
       "      <td>POINT (-71.78924 42.25995)</td>\n",
       "    </tr>\n",
       "    <tr>\n",
       "      <th>180</th>\n",
       "      <td>181</td>\n",
       "      <td>Wylie, TX</td>\n",
       "      <td>2800 State Highway 78 North</td>\n",
       "      <td>Wylie</td>\n",
       "      <td>TX</td>\n",
       "      <td>75098</td>\n",
       "      <td>None</td>\n",
       "      <td>2018-08-03</td>\n",
       "      <td>KCS</td>\n",
       "      <td>TOFC/COFC</td>\n",
       "      <td>None</td>\n",
       "      <td>663676</td>\n",
       "      <td>33.025555</td>\n",
       "      <td>-96.509452</td>\n",
       "      <td>POINT (-96.50945 33.02556)</td>\n",
       "    </tr>\n",
       "  </tbody>\n",
       "</table>\n",
       "<p>181 rows × 15 columns</p>\n",
       "</div>"
      ],
      "text/plain": [
       "     OBJECTID                                           TERMINAL  \\\n",
       "0           1                         Albany, NY - Mechanicville   \n",
       "1           2                                    Albuquerque, NM   \n",
       "2           3                                       Alliance, TX   \n",
       "3           4                                        Arcadia, WI   \n",
       "4           5                              Atlanta, GA - Austell   \n",
       "..        ...                                                ...   \n",
       "176       177  Wilmington, CA - TraPac Intermodal Container T...   \n",
       "177       178                Wilmington, NC - Container Terminal   \n",
       "178       179  Winter Haven, FL - Central Florida Intermodal ...   \n",
       "179       180                                      Worcester, MA   \n",
       "180       181                                          Wylie, TX   \n",
       "\n",
       "                                            TERM_ADDRE           CITY STATE  \\\n",
       "0                                          50 Route 67  Mechanicville    NY   \n",
       "1                               100 Woodward Road S.E.    Albuquerque    NM   \n",
       "2                              1111 Intermodal Parkway         Haslet    TX   \n",
       "3                                       One Ashley Way        Arcadia    WI   \n",
       "4    6000 Dr. Luke Glenn Garrett, Jr. Memorial Highway        Austell    GA   \n",
       "..                                                 ...            ...   ...   \n",
       "176                   630 West Harry Bridges Boulevard     Wilmington    CA   \n",
       "177                               1 Shipyard Boulevard     Wilmington    NC   \n",
       "178                              3935 Intermodal Drive   Winter Haven    FL   \n",
       "179                                 165 Grafton Street      Worcester    MA   \n",
       "180                        2800 State Highway 78 North          Wylie    TX   \n",
       "\n",
       "    ZIP_CODE                 PORT        DATE RAIL_COMPA  EQUIPMENT  \\\n",
       "0      12118                 None  2018-08-01         NS       COFC   \n",
       "1      87102                 None  2018-09-01       BNSF  TOFC/COFC   \n",
       "2      76052                 None  2018-09-02       BNSF  TOFC/COFC   \n",
       "3      54612                 None  2018-09-01         CN  TOFC/COFC   \n",
       "4      30106                 None  2018-08-01         NS  TOFC/COFC   \n",
       "..       ...                  ...         ...        ...        ...   \n",
       "176    90744  Port of Los Angeles  2018-12-07        PHL  TOFC/COFC   \n",
       "177    28401   Port of Wilmington  2018-09-11        CSX       COFC   \n",
       "178    33884                 None  2018-09-11  CSX, EVWR       COFC   \n",
       "179    01604                 None  2018-09-11        CSX  TOFC/COFC   \n",
       "180    75098                 None  2018-08-03        KCS  TOFC/COFC   \n",
       "\n",
       "               ACCESS_ROA    SPLC        LAT         LON  \\\n",
       "0                    None  171760  42.914715  -73.709533   \n",
       "1                    None  774900  35.047580 -106.653344   \n",
       "2                    None  668100  32.999881  -97.347026   \n",
       "3    South Washington St.  328754  44.251243  -91.509663   \n",
       "4                    None  456496  33.825798  -84.655069   \n",
       "..                    ...     ...        ...         ...   \n",
       "176                  None  883257  33.770320 -118.273289   \n",
       "177                  None  409160  34.191224  -77.952419   \n",
       "178                  None  497540  27.939953  -81.693226   \n",
       "179                  None  145460  42.259951  -71.789244   \n",
       "180                  None  663676  33.025555  -96.509452   \n",
       "\n",
       "                        geometry  \n",
       "0     POINT (-73.70953 42.91471)  \n",
       "1    POINT (-106.65334 35.04758)  \n",
       "2     POINT (-97.34703 32.99988)  \n",
       "3     POINT (-91.50966 44.25124)  \n",
       "4     POINT (-84.65507 33.82580)  \n",
       "..                           ...  \n",
       "176  POINT (-118.27329 33.77032)  \n",
       "177   POINT (-77.95242 34.19122)  \n",
       "178   POINT (-81.69323 27.93995)  \n",
       "179   POINT (-71.78924 42.25995)  \n",
       "180   POINT (-96.50945 33.02556)  \n",
       "\n",
       "[181 rows x 15 columns]"
      ]
     },
     "execution_count": 19,
     "metadata": {},
     "output_type": "execute_result"
    }
   ],
   "source": [
    "df"
   ]
  },
  {
   "cell_type": "code",
   "execution_count": null,
   "metadata": {},
   "outputs": [],
   "source": []
  }
 ],
 "metadata": {
  "kernelspec": {
   "display_name": "Multimodal_freight_USA",
   "language": "python",
   "name": "multimodal_freight_usa"
  },
  "language_info": {
   "codemirror_mode": {
    "name": "ipython",
    "version": 3
   },
   "file_extension": ".py",
   "mimetype": "text/x-python",
   "name": "python",
   "nbconvert_exporter": "python",
   "pygments_lexer": "ipython3",
   "version": "3.8.6"
  }
 },
 "nbformat": 4,
 "nbformat_minor": 4
}
