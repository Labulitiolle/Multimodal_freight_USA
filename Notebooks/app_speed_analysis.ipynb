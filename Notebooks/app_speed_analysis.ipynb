{
 "cells": [
  {
   "cell_type": "markdown",
   "metadata": {},
   "source": [
    "# Improve speed of the app "
   ]
  },
  {
   "cell_type": "code",
   "execution_count": 1,
   "metadata": {},
   "outputs": [],
   "source": [
    "import time\n",
    "import osmnx as ox\n",
    "\n",
    "\n",
    "import sys\n",
    "sys.path.append('../../Multimodal_freight_USA/')\n",
    "from mfreight.Multimodal.graph_utils import MultimodalNet\n",
    "from mfreight.utils import build_graph\n",
    "\n",
    "departure_x, departure_y = (30.439440, -85.057166)\n",
    "arrival_x, arrival_y = (25.382380, -80.475159)"
   ]
  },
  {
   "cell_type": "code",
   "execution_count": 2,
   "metadata": {},
   "outputs": [
    {
     "name": "stdout",
     "output_type": "stream",
     "text": [
      "time elapsed: 9.36903691291809s\n"
     ]
    }
   ],
   "source": [
    "start = time.time()\n",
    "Net = MultimodalNet(path_u= \"mfreight/multimodal/data/multimodal_G_tot_u.plk\")\n",
    "print(f'time elapsed: {time.time()-start}s')"
   ]
  },
  {
   "cell_type": "code",
   "execution_count": 3,
   "metadata": {},
   "outputs": [
    {
     "name": "stdout",
     "output_type": "stream",
     "text": [
      "time elapsed: 0.8103270530700684s\n"
     ]
    }
   ],
   "source": [
    "start = time.time()\n",
    "Net.set_price((departure_x, departure_y), (arrival_x, arrival_y))\n",
    "print(f'time elapsed: {time.time()-start}s')"
   ]
  },
  {
   "cell_type": "code",
   "execution_count": 4,
   "metadata": {},
   "outputs": [
    {
     "name": "stdout",
     "output_type": "stream",
     "text": [
      "time elapsed: 0.3827991485595703s\n"
     ]
    }
   ],
   "source": [
    "start = time.time()\n",
    "Net.set_target_weight_to_edges(0.33, 0.33, 0.33)\n",
    "print(f'time elapsed: {time.time()-start}s')"
   ]
  },
  {
   "cell_type": "code",
   "execution_count": 5,
   "metadata": {},
   "outputs": [
    {
     "name": "stdout",
     "output_type": "stream",
     "text": [
      "time elapsed: 10.451786994934082s\n",
      "time elapsed: 11.240393161773682s\n"
     ]
    }
   ],
   "source": [
    "start = time.time()\n",
    "n,e = Net.chose_operator(['CSTX',])\n",
    "print(f'time elapsed: {time.time()-start}s')"
   ]
  },
  {
   "cell_type": "code",
   "execution_count": 10,
   "metadata": {},
   "outputs": [
    {
     "name": "stdout",
     "output_type": "stream",
     "text": [
      "time elapsed: 10.139746189117432s\n"
     ]
    }
   ],
   "source": [
    "start = time.time()\n",
    "build_graph.graph_from_gdfs_revisited(n, e)\n",
    "print(f'time elapsed: {time.time()-start}s')"
   ]
  },
  {
   "cell_type": "code",
   "execution_count": 9,
   "metadata": {},
   "outputs": [
    {
     "data": {
      "text/html": [
       "<div>\n",
       "<style scoped>\n",
       "    .dataframe tbody tr th:only-of-type {\n",
       "        vertical-align: middle;\n",
       "    }\n",
       "\n",
       "    .dataframe tbody tr th {\n",
       "        vertical-align: top;\n",
       "    }\n",
       "\n",
       "    .dataframe thead th {\n",
       "        text-align: right;\n",
       "    }\n",
       "</style>\n",
       "<table border=\"1\" class=\"dataframe\">\n",
       "  <thead>\n",
       "    <tr style=\"text-align: right;\">\n",
       "      <th></th>\n",
       "      <th>trans_mode</th>\n",
       "      <th>length</th>\n",
       "      <th>duration_h</th>\n",
       "      <th>CO2_eq_kg</th>\n",
       "      <th>geometry</th>\n",
       "      <th>price</th>\n",
       "      <th>target_feature</th>\n",
       "      <th>u</th>\n",
       "      <th>v</th>\n",
       "      <th>key</th>\n",
       "    </tr>\n",
       "  </thead>\n",
       "  <tbody>\n",
       "    <tr>\n",
       "      <th>0</th>\n",
       "      <td>road</td>\n",
       "      <td>1.0</td>\n",
       "      <td>0.000011</td>\n",
       "      <td>0.000081</td>\n",
       "      <td>LINESTRING (-117.80650 34.06510, -117.80650 34...</td>\n",
       "      <td>0.001044</td>\n",
       "      <td>0.000003</td>\n",
       "      <td>1000502025</td>\n",
       "      <td>1000502025</td>\n",
       "      <td>0</td>\n",
       "    </tr>\n",
       "    <tr>\n",
       "      <th>1</th>\n",
       "      <td>road</td>\n",
       "      <td>10.0</td>\n",
       "      <td>0.000112</td>\n",
       "      <td>0.000805</td>\n",
       "      <td>LINESTRING (-117.80650 34.06510, -117.80640 34...</td>\n",
       "      <td>0.010440</td>\n",
       "      <td>0.000029</td>\n",
       "      <td>1000502025</td>\n",
       "      <td>1000502018</td>\n",
       "      <td>0</td>\n",
       "    </tr>\n",
       "    <tr>\n",
       "      <th>2</th>\n",
       "      <td>road</td>\n",
       "      <td>3056.0</td>\n",
       "      <td>0.034337</td>\n",
       "      <td>0.246048</td>\n",
       "      <td>LINESTRING (-117.83950 34.06870, -117.83910 34...</td>\n",
       "      <td>3.190464</td>\n",
       "      <td>0.008976</td>\n",
       "      <td>1000502025</td>\n",
       "      <td>1000501783</td>\n",
       "      <td>0</td>\n",
       "    </tr>\n",
       "    <tr>\n",
       "      <th>3</th>\n",
       "      <td>road</td>\n",
       "      <td>10.0</td>\n",
       "      <td>0.000112</td>\n",
       "      <td>0.000805</td>\n",
       "      <td>LINESTRING (-117.80640 34.06510, -117.80650 34...</td>\n",
       "      <td>0.010440</td>\n",
       "      <td>0.000029</td>\n",
       "      <td>1000502018</td>\n",
       "      <td>1000502025</td>\n",
       "      <td>0</td>\n",
       "    </tr>\n",
       "    <tr>\n",
       "      <th>4</th>\n",
       "      <td>road</td>\n",
       "      <td>342.0</td>\n",
       "      <td>0.003843</td>\n",
       "      <td>0.027535</td>\n",
       "      <td>LINESTRING (-117.80640 34.06510, -117.80310 34...</td>\n",
       "      <td>0.357048</td>\n",
       "      <td>0.001005</td>\n",
       "      <td>1000502018</td>\n",
       "      <td>1000499705</td>\n",
       "      <td>0</td>\n",
       "    </tr>\n",
       "  </tbody>\n",
       "</table>\n",
       "</div>"
      ],
      "text/plain": [
       "  trans_mode  length  duration_h  CO2_eq_kg  \\\n",
       "0       road     1.0    0.000011   0.000081   \n",
       "1       road    10.0    0.000112   0.000805   \n",
       "2       road  3056.0    0.034337   0.246048   \n",
       "3       road    10.0    0.000112   0.000805   \n",
       "4       road   342.0    0.003843   0.027535   \n",
       "\n",
       "                                            geometry     price  \\\n",
       "0  LINESTRING (-117.80650 34.06510, -117.80650 34...  0.001044   \n",
       "1  LINESTRING (-117.80650 34.06510, -117.80640 34...  0.010440   \n",
       "2  LINESTRING (-117.83950 34.06870, -117.83910 34...  3.190464   \n",
       "3  LINESTRING (-117.80640 34.06510, -117.80650 34...  0.010440   \n",
       "4  LINESTRING (-117.80640 34.06510, -117.80310 34...  0.357048   \n",
       "\n",
       "   target_feature           u           v  key  \n",
       "0        0.000003  1000502025  1000502025    0  \n",
       "1        0.000029  1000502025  1000502018    0  \n",
       "2        0.008976  1000502025  1000501783    0  \n",
       "3        0.000029  1000502018  1000502025    0  \n",
       "4        0.001005  1000502018  1000499705    0  "
      ]
     },
     "execution_count": 9,
     "metadata": {},
     "output_type": "execute_result"
    }
   ],
   "source": [
    "e.head()"
   ]
  },
  {
   "cell_type": "markdown",
   "metadata": {},
   "source": [
    "The bottelneck of the app is the `graph_from_gdfs` function. It will be attempted to speed it up"
   ]
  },
  {
   "cell_type": "markdown",
   "metadata": {},
   "source": [
    "# Improve graph_from_gdfs speed"
   ]
  },
  {
   "cell_type": "code",
   "execution_count": 9,
   "metadata": {},
   "outputs": [
    {
     "data": {
      "text/plain": [
       "(97087, 5)"
      ]
     },
     "execution_count": 9,
     "metadata": {},
     "output_type": "execute_result"
    }
   ],
   "source": [
    "nodes = Net.nodes.copy()\n",
    "nodes.drop(\n",
    "    nodes.columns.difference(\n",
    "        [\n",
    "            \"trans_mode\",\n",
    "            \"x\",\n",
    "            \"y\",\n",
    "            \"geometry\",\n",
    "            \"key\"\n",
    "        ]\n",
    "    ),\n",
    "    axis=1,\n",
    "    inplace=True,\n",
    ")\n",
    "nodes.shape"
   ]
  },
  {
   "cell_type": "code",
   "execution_count": 10,
   "metadata": {},
   "outputs": [
    {
     "data": {
      "text/plain": [
       "(274361, 10)"
      ]
     },
     "execution_count": 10,
     "metadata": {},
     "output_type": "execute_result"
    }
   ],
   "source": [
    "edges = Net.edges.copy()\n",
    "edges.drop(\n",
    "    edges.columns.difference(\n",
    "        [\n",
    "            \"trans_mode\",\n",
    "            \"length\",\n",
    "            \"duration_h\",\n",
    "            \"CO2_eq_kg\",\n",
    "            \"price\",\n",
    "            \"geometry\",\n",
    "            \"key\",\n",
    "            \"target_feature\",\n",
    "            \"u\",\n",
    "            \"v\",\n",
    "        ]\n",
    "    ),\n",
    "    axis=1,\n",
    "    inplace=True,\n",
    ")\n",
    "edges.shape"
   ]
  },
  {
   "cell_type": "code",
   "execution_count": 11,
   "metadata": {},
   "outputs": [
    {
     "name": "stdout",
     "output_type": "stream",
     "text": [
      "time elapsed: 9.100024938583374s\n"
     ]
    }
   ],
   "source": [
    "start = time.time()\n",
    "G1 = build_graph.graph_from_gdfs_revisited(nodes, edges)\n",
    "print(f'time elapsed: {time.time()-start}s')"
   ]
  },
  {
   "cell_type": "code",
   "execution_count": 12,
   "metadata": {},
   "outputs": [
    {
     "name": "stdout",
     "output_type": "stream",
     "text": [
      "time elapsed: 31.360657215118408s\n"
     ]
    }
   ],
   "source": [
    "start = time.time()\n",
    "G2 = ox.graph_from_gdfs(nodes, edges)\n",
    "print(f'time elapsed: {time.time()-start}s')"
   ]
  },
  {
   "cell_type": "markdown",
   "metadata": {},
   "source": [
    "The proposed improvement is significantly faster."
   ]
  },
  {
   "cell_type": "code",
   "execution_count": 18,
   "metadata": {},
   "outputs": [
    {
     "data": {
      "text/plain": [
       "'Name: \\nType: MultiDiGraph\\nNumber of nodes: 97087\\nNumber of edges: 274361\\nAverage in degree:   2.8259\\nAverage out degree:   2.8259'"
      ]
     },
     "execution_count": 18,
     "metadata": {},
     "output_type": "execute_result"
    }
   ],
   "source": [
    "import networkx as nx\n",
    "nx.info(G1)"
   ]
  },
  {
   "cell_type": "code",
   "execution_count": 19,
   "metadata": {},
   "outputs": [
    {
     "data": {
      "text/plain": [
       "'Name: \\nType: MultiDiGraph\\nNumber of nodes: 97087\\nNumber of edges: 274361\\nAverage in degree:   2.8259\\nAverage out degree:   2.8259'"
      ]
     },
     "execution_count": 19,
     "metadata": {},
     "output_type": "execute_result"
    }
   ],
   "source": [
    "nx.info(G2)"
   ]
  },
  {
   "cell_type": "code",
   "execution_count": 21,
   "metadata": {},
   "outputs": [
    {
     "data": {
      "text/plain": [
       "(274361, 10)"
      ]
     },
     "execution_count": 21,
     "metadata": {},
     "output_type": "execute_result"
    }
   ],
   "source": [
    "e1 = ox.graph_to_gdfs(G1, nodes=False)\n",
    "e1.shape"
   ]
  },
  {
   "cell_type": "code",
   "execution_count": 22,
   "metadata": {},
   "outputs": [
    {
     "data": {
      "text/plain": [
       "(274361, 10)"
      ]
     },
     "execution_count": 22,
     "metadata": {},
     "output_type": "execute_result"
    }
   ],
   "source": [
    "e2 = ox.graph_to_gdfs(G2, nodes=False)\n",
    "e2.shape"
   ]
  },
  {
   "cell_type": "code",
   "execution_count": null,
   "metadata": {},
   "outputs": [],
   "source": [
    "\n",
    "start = time.time()\n",
    "G = ox.graph_from_gdfs(Net.nodes, Net.edges)\n",
    "print(f'time elapsed: {time.time()-start}s')"
   ]
  },
  {
   "cell_type": "code",
   "execution_count": null,
   "metadata": {},
   "outputs": [],
   "source": []
  }
 ],
 "metadata": {
  "kernelspec": {
   "display_name": "Multimodal_kernel",
   "language": "python",
   "name": "multimodal_kernel"
  },
  "language_info": {
   "codemirror_mode": {
    "name": "ipython",
    "version": 3
   },
   "file_extension": ".py",
   "mimetype": "text/x-python",
   "name": "python",
   "nbconvert_exporter": "python",
   "pygments_lexer": "ipython3",
   "version": "3.8.6"
  }
 },
 "nbformat": 4,
 "nbformat_minor": 4
}
